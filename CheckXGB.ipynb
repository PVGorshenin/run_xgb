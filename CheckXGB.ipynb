{
 "cells": [
  {
   "cell_type": "code",
   "execution_count": 10,
   "metadata": {
    "ExecuteTime": {
     "end_time": "2020-09-07T16:36:16.951689Z",
     "start_time": "2020-09-07T16:36:16.918131Z"
    }
   },
   "outputs": [
    {
     "data": {
      "text/html": [
       "<style>.container { width:100% !important; }</style>"
      ],
      "text/plain": [
       "<IPython.core.display.HTML object>"
      ]
     },
     "metadata": {},
     "output_type": "display_data"
    }
   ],
   "source": [
    "import numpy as np\n",
    "import os\n",
    "import pandas as pd\n",
    "import pickle\n",
    "import xgboost as xgb\n",
    "\n",
    "from scipy import stats\n",
    "from sklearn.model_selection import KFold\n",
    "from sklearn.metrics import accuracy_score, mean_absolute_error\n",
    "from IPython.core.display import display, HTML\n",
    "display(HTML(\"<style>.container { width:100% !important; }</style>\"))\n",
    "\n",
    "pd.options.display.max_columns=500\n",
    "pd.options.display.max_rows=500\n",
    "pd.options.display.max_colwidth=500\n",
    "np.set_printoptions(precision=3)\n",
    "\n",
    "%run ./run_xgb.py"
   ]
  },
  {
   "cell_type": "code",
   "execution_count": 2,
   "metadata": {
    "ExecuteTime": {
     "end_time": "2020-09-07T16:30:51.257282Z",
     "start_time": "2020-09-07T16:30:50.587951Z"
    }
   },
   "outputs": [],
   "source": [
    "df = pd.read_csv('./data/train.csv')\n",
    "train_cols = list(df.iloc[:, 13:20].columns)\n",
    "label_col = 'price_doc'\n",
    "\n",
    "df['label_log'] = np.log(df[label_col])\n",
    "df['label_binned'] = pd.cut(df['label_log'], 5, labels=[0,1,2,3,4])"
   ]
  },
  {
   "cell_type": "code",
   "execution_count": 3,
   "metadata": {
    "ExecuteTime": {
     "end_time": "2020-09-07T16:30:51.337708Z",
     "start_time": "2020-09-07T16:30:51.329763Z"
    }
   },
   "outputs": [
    {
     "data": {
      "text/plain": [
       "2    16452\n",
       "3    12574\n",
       "1     1207\n",
       "4      226\n",
       "0       12\n",
       "Name: label_binned, dtype: int64"
      ]
     },
     "execution_count": 3,
     "metadata": {},
     "output_type": "execute_result"
    }
   ],
   "source": [
    "df['label_binned'].value_counts()"
   ]
  },
  {
   "cell_type": "markdown",
   "metadata": {},
   "source": [
    "### Model check"
   ]
  },
  {
   "cell_type": "code",
   "execution_count": 28,
   "metadata": {
    "ExecuteTime": {
     "end_time": "2020-09-07T16:40:05.925206Z",
     "start_time": "2020-09-07T16:40:05.901140Z"
    }
   },
   "outputs": [],
   "source": [
    "def my_acc(labels, preds):\n",
    "    return accuracy_score(labels, stats.mode(preds, 0)[0].reshape((-1, 1)))\n",
    "\n",
    "\n",
    "def multy_acc(labels, preds):\n",
    "    return (labels == np.argmax(stats.mode(preds, 0)[0][0], axis=1)).mean()\n",
    "\n",
    "\n",
    "def mae(labels, preds):\n",
    "    return mean_absolute_error(labels, preds.mean(0))"
   ]
  },
  {
   "cell_type": "code",
   "execution_count": 15,
   "metadata": {
    "ExecuteTime": {
     "end_time": "2020-09-07T16:37:44.367457Z",
     "start_time": "2020-09-07T16:37:44.348149Z"
    }
   },
   "outputs": [],
   "source": [
    "kfold = KFold(n_splits=3)\n",
    "\n",
    "train_params = {\n",
    "    'num_boost_round': 200,\n",
    "    'verbose_eval': 10,\n",
    "    'early_stopping_rounds': 10\n",
    "}\n",
    "\n",
    "booster_params = {\n",
    "    'objective': 'multi:softprob',\n",
    "    'num_class': 5,\n",
    "    'nthread': -1,\n",
    "    'eta': .1,\n",
    "    'max_depth': 5\n",
    "}\n",
    "\n",
    "log_params = {\n",
    "    'description': 'proba',\n",
    "    'result_path': './data/result'\n",
    "}"
   ]
  },
  {
   "cell_type": "code",
   "execution_count": 27,
   "metadata": {
    "ExecuteTime": {
     "end_time": "2020-09-07T16:39:54.197299Z",
     "start_time": "2020-09-07T16:39:53.409199Z"
    },
    "scrolled": true
   },
   "outputs": [
    {
     "name": "stdout",
     "output_type": "stream",
     "text": [
      "./data/result/09-07-19\n",
      "(3, 2001, 5)\n",
      "[0]\ttrain-merror:0.424288\tval-merror:0.407796\n",
      "Multiple eval metrics have been passed: 'val-merror' will be used for early stopping.\n",
      "\n",
      "Will train until val-merror hasn't improved in 10 rounds.\n",
      "[10]\ttrain-merror:0.4003\tval-merror:0.389805\n",
      "[20]\ttrain-merror:0.384558\tval-merror:0.385307\n",
      "Stopping. Best iteration:\n",
      "[17]\ttrain-merror:0.388306\tval-merror:0.385307\n",
      "\n",
      "[0]\ttrain-merror:0.388306\tval-merror:0.422789\n",
      "Multiple eval metrics have been passed: 'val-merror' will be used for early stopping.\n",
      "\n",
      "Will train until val-merror hasn't improved in 10 rounds.\n",
      "[10]\ttrain-merror:0.377811\tval-merror:0.416792\n",
      "Stopping. Best iteration:\n",
      "[7]\ttrain-merror:0.38006\tval-merror:0.415292\n",
      "\n",
      "[0]\ttrain-merror:0.386807\tval-merror:0.457271\n",
      "Multiple eval metrics have been passed: 'val-merror' will be used for early stopping.\n",
      "\n",
      "Will train until val-merror hasn't improved in 10 rounds.\n",
      "[10]\ttrain-merror:0.371814\tval-merror:0.436282\n",
      "[20]\ttrain-merror:0.365067\tval-merror:0.425787\n",
      "[30]\ttrain-merror:0.365067\tval-merror:0.422789\n",
      "[40]\ttrain-merror:0.363568\tval-merror:0.427286\n",
      "Stopping. Best iteration:\n",
      "[31]\ttrain-merror:0.365067\tval-merror:0.41979\n",
      "\n",
      "(2001,) (2001,)\n"
     ]
    }
   ],
   "source": [
    "res = run_xgb(train_df=df.loc[:2000, :],\n",
    "              val_df=df.loc[2000:4000, :],\n",
    "             train_cols=train_cols,\n",
    "             label_cols='label_binned',\n",
    "             booster_params=booster_params,\n",
    "             train_params=train_params,\n",
    "             log_params=log_params,\n",
    "             kfold=kfold,\n",
    "             metric=multy_acc)"
   ]
  },
  {
   "cell_type": "code",
   "execution_count": null,
   "metadata": {},
   "outputs": [],
   "source": []
  },
  {
   "cell_type": "code",
   "execution_count": 31,
   "metadata": {
    "ExecuteTime": {
     "end_time": "2020-09-07T15:39:32.299209Z",
     "start_time": "2020-09-07T15:39:32.280286Z"
    }
   },
   "outputs": [],
   "source": [
    "n_folds = 3\n",
    "n_examples = 10\n",
    "n_targets = 1\n",
    "\n",
    "a1 = np.zeros([n_folds, n_examples, n_targets])\n",
    "a2 = np.ones([n_examples])"
   ]
  },
  {
   "cell_type": "code",
   "execution_count": 33,
   "metadata": {
    "ExecuteTime": {
     "end_time": "2020-09-07T15:47:28.142261Z",
     "start_time": "2020-09-07T15:47:28.119172Z"
    }
   },
   "outputs": [
    {
     "ename": "ValueError",
     "evalue": "could not broadcast input array from shape (10) into shape (10,1)",
     "output_type": "error",
     "traceback": [
      "\u001b[0;31m---------------------------------------------------------------------------\u001b[0m",
      "\u001b[0;31mValueError\u001b[0m                                Traceback (most recent call last)",
      "\u001b[0;32m<ipython-input-33-a58a4189d2ae>\u001b[0m in \u001b[0;36m<module>\u001b[0;34m\u001b[0m\n\u001b[0;32m----> 1\u001b[0;31m \u001b[0ma1\u001b[0m\u001b[0;34m[\u001b[0m\u001b[0;36m0\u001b[0m\u001b[0;34m,\u001b[0m \u001b[0;34m:\u001b[0m\u001b[0;34m]\u001b[0m \u001b[0;34m=\u001b[0m \u001b[0ma2\u001b[0m\u001b[0;34m\u001b[0m\u001b[0;34m\u001b[0m\u001b[0m\n\u001b[0m",
      "\u001b[0;31mValueError\u001b[0m: could not broadcast input array from shape (10) into shape (10,1)"
     ]
    }
   ],
   "source": [
    "a1[0] = a2"
   ]
  },
  {
   "cell_type": "code",
   "execution_count": 23,
   "metadata": {
    "ExecuteTime": {
     "end_time": "2020-09-07T15:36:28.046977Z",
     "start_time": "2020-09-07T15:36:28.024377Z"
    }
   },
   "outputs": [
    {
     "data": {
      "text/plain": [
       "(3, 5)"
      ]
     },
     "execution_count": 23,
     "metadata": {},
     "output_type": "execute_result"
    }
   ],
   "source": []
  },
  {
   "cell_type": "markdown",
   "metadata": {
    "ExecuteTime": {
     "end_time": "2020-09-03T09:48:28.752072Z",
     "start_time": "2020-09-03T09:48:28.749198Z"
    }
   },
   "source": [
    "### Feature importance checker"
   ]
  },
  {
   "cell_type": "code",
   "execution_count": 27,
   "metadata": {
    "ExecuteTime": {
     "end_time": "2020-09-03T12:00:47.058466Z",
     "start_time": "2020-09-03T12:00:47.039266Z"
    }
   },
   "outputs": [],
   "source": [
    "with open('./data/result/09-03-14/models/model0.pickle', 'rb') as f:\n",
    "    model = pickle.load(f)"
   ]
  },
  {
   "cell_type": "code",
   "execution_count": 29,
   "metadata": {
    "ExecuteTime": {
     "end_time": "2020-09-03T12:01:44.794762Z",
     "start_time": "2020-09-03T12:01:44.778106Z"
    }
   },
   "outputs": [
    {
     "data": {
      "text/plain": [
       "['area_m',\n",
       " 'raion_popul',\n",
       " 'green_zone_part',\n",
       " 'indust_part',\n",
       " 'children_preschool',\n",
       " 'preschool_quota',\n",
       " 'preschool_education_centers_raion']"
      ]
     },
     "execution_count": 29,
     "metadata": {},
     "output_type": "execute_result"
    }
   ],
   "source": [
    "model.feature_names"
   ]
  },
  {
   "cell_type": "code",
   "execution_count": 69,
   "metadata": {
    "ExecuteTime": {
     "end_time": "2020-09-03T12:32:27.187957Z",
     "start_time": "2020-09-03T12:32:27.172487Z"
    }
   },
   "outputs": [],
   "source": [
    "%run ./check_importance.py"
   ]
  },
  {
   "cell_type": "code",
   "execution_count": 70,
   "metadata": {
    "ExecuteTime": {
     "end_time": "2020-09-03T12:32:27.496550Z",
     "start_time": "2020-09-03T12:32:27.414388Z"
    }
   },
   "outputs": [
    {
     "name": "stdout",
     "output_type": "stream",
     "text": [
      "Start preds mean --> 7762036.00    changed preds mean --> 7765612.50\n",
      "0.0005\n"
     ]
    }
   ],
   "source": [
    "result = check_importance(df,\n",
    "                          model,\n",
    "                          input_col='raion_popul',\n",
    "                         input_change_method='rel',\n",
    "                        target_measure_method='mass_rel',\n",
    "                        agg_method='mean',\n",
    "                        increase_koeff=5)\n"
   ]
  },
  {
   "cell_type": "code",
   "execution_count": null,
   "metadata": {},
   "outputs": [],
   "source": []
  }
 ],
 "metadata": {
  "kernelspec": {
   "display_name": "Python 3",
   "language": "python",
   "name": "python3"
  },
  "language_info": {
   "codemirror_mode": {
    "name": "ipython",
    "version": 3
   },
   "file_extension": ".py",
   "mimetype": "text/x-python",
   "name": "python",
   "nbconvert_exporter": "python",
   "pygments_lexer": "ipython3",
   "version": "3.7.4"
  },
  "toc": {
   "base_numbering": 1,
   "nav_menu": {},
   "number_sections": true,
   "sideBar": true,
   "skip_h1_title": false,
   "title_cell": "Table of Contents",
   "title_sidebar": "Contents",
   "toc_cell": false,
   "toc_position": {},
   "toc_section_display": true,
   "toc_window_display": false
  }
 },
 "nbformat": 4,
 "nbformat_minor": 4
}
