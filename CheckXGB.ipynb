{
 "cells": [
  {
   "cell_type": "code",
   "execution_count": 32,
   "metadata": {
    "ExecuteTime": {
     "end_time": "2020-09-02T16:21:56.287485Z",
     "start_time": "2020-09-02T16:21:56.264176Z"
    }
   },
   "outputs": [
    {
     "data": {
      "text/html": [
       "<style>.container { width:100% !important; }</style>"
      ],
      "text/plain": [
       "<IPython.core.display.HTML object>"
      ]
     },
     "metadata": {},
     "output_type": "display_data"
    }
   ],
   "source": [
    "import numpy as np\n",
    "import os\n",
    "import pandas as pd\n",
    "\n",
    "from sklearn.model_selection import KFold\n",
    "from sklearn.metrics import accuracy_score\n",
    "from IPython.core.display import display, HTML\n",
    "display(HTML(\"<style>.container { width:100% !important; }</style>\"))\n",
    "\n",
    "pd.options.display.max_columns=500\n",
    "pd.options.display.max_rows=500\n",
    "pd.options.display.max_colwidth=500\n",
    "np.set_printoptions(precision=3)\n",
    "\n",
    "%run ./run_xgb.py"
   ]
  },
  {
   "cell_type": "code",
   "execution_count": 2,
   "metadata": {
    "ExecuteTime": {
     "end_time": "2020-09-02T16:11:19.396400Z",
     "start_time": "2020-09-02T16:11:19.392917Z"
    }
   },
   "outputs": [],
   "source": [
    "kfold = KFold(n_splits=3)\n",
    "\n",
    "train_params = {\n",
    "    'num_boost_round': 100,\n",
    "    'verbose_eval': 10,\n",
    "    'early_stopping_rounds': 10\n",
    "}\n",
    "\n",
    "booster_params = {\n",
    "    'objective': 'multi:softmax',\n",
    "    'eval_metric': 'mlogloss',\n",
    "    'num_class': 5,\n",
    "    'nthread': -1,\n",
    "    'eta': .1,\n",
    "    'max_depth': 5\n",
    "}\n",
    "\n",
    "log_params = {\n",
    "    'description': 'proba',\n",
    "    'result_path': './result'\n",
    "}"
   ]
  },
  {
   "cell_type": "code",
   "execution_count": 3,
   "metadata": {
    "ExecuteTime": {
     "end_time": "2020-09-02T16:11:20.147714Z",
     "start_time": "2020-09-02T16:11:19.399017Z"
    }
   },
   "outputs": [],
   "source": [
    "df = pd.read_csv('./train.csv')\n",
    "train_cols = list(df.iloc[:, 13:20].columns)\n",
    "label_col = 'price_doc'\n",
    "\n",
    "df['label_binned'] = pd.cut(df[label_col], 5, labels=[0,1,2,3,5])"
   ]
  },
  {
   "cell_type": "code",
   "execution_count": 28,
   "metadata": {
    "ExecuteTime": {
     "end_time": "2020-09-02T16:20:09.644273Z",
     "start_time": "2020-09-02T16:20:09.639505Z"
    }
   },
   "outputs": [],
   "source": [
    "def my_acc(labels, preds):\n",
    "    return accuracy_score(labels, stats.mode(preds, 0)[0].reshape((-1, 1)))"
   ]
  },
  {
   "cell_type": "code",
   "execution_count": 33,
   "metadata": {
    "ExecuteTime": {
     "end_time": "2020-09-02T16:21:59.061710Z",
     "start_time": "2020-09-02T16:21:58.483685Z"
    }
   },
   "outputs": [
    {
     "name": "stdout",
     "output_type": "stream",
     "text": [
      "./result/09-02-19\n",
      "[0]\ttrain-mlogloss:1.37675\tval-mlogloss:1.37518\n",
      "Multiple eval metrics have been passed: 'val-mlogloss' will be used for early stopping.\n",
      "\n",
      "Will train until val-mlogloss hasn't improved in 10 rounds.\n",
      "[10]\ttrain-mlogloss:0.44656\tval-mlogloss:0.43657\n",
      "[20]\ttrain-mlogloss:0.19026\tval-mlogloss:0.17836\n",
      "[30]\ttrain-mlogloss:0.10091\tval-mlogloss:0.09026\n",
      "[40]\ttrain-mlogloss:0.06750\tval-mlogloss:0.06032\n",
      "[50]\ttrain-mlogloss:0.05433\tval-mlogloss:0.05027\n",
      "[60]\ttrain-mlogloss:0.04860\tval-mlogloss:0.04725\n",
      "[70]\ttrain-mlogloss:0.04587\tval-mlogloss:0.04669\n",
      "[80]\ttrain-mlogloss:0.04444\tval-mlogloss:0.04701\n",
      "Stopping. Best iteration:\n",
      "[72]\ttrain-mlogloss:0.04550\tval-mlogloss:0.04665\n",
      "\n",
      "[0]\ttrain-mlogloss:1.37336\tval-mlogloss:1.37668\n",
      "Multiple eval metrics have been passed: 'val-mlogloss' will be used for early stopping.\n",
      "\n",
      "Will train until val-mlogloss hasn't improved in 10 rounds.\n",
      "[10]\ttrain-mlogloss:0.43165\tval-mlogloss:0.45361\n",
      "[20]\ttrain-mlogloss:0.17235\tval-mlogloss:0.20773\n",
      "[30]\ttrain-mlogloss:0.08267\tval-mlogloss:0.12991\n",
      "[40]\ttrain-mlogloss:0.04961\tval-mlogloss:0.10728\n",
      "[50]\ttrain-mlogloss:0.03689\tval-mlogloss:0.10366\n",
      "[60]\ttrain-mlogloss:0.03166\tval-mlogloss:0.10481\n",
      "Stopping. Best iteration:\n",
      "[51]\ttrain-mlogloss:0.03615\tval-mlogloss:0.10362\n",
      "\n",
      "[0]\ttrain-mlogloss:1.37544\tval-mlogloss:1.37554\n",
      "Multiple eval metrics have been passed: 'val-mlogloss' will be used for early stopping.\n",
      "\n",
      "Will train until val-mlogloss hasn't improved in 10 rounds.\n",
      "[10]\ttrain-mlogloss:0.44108\tval-mlogloss:0.44346\n",
      "[20]\ttrain-mlogloss:0.18421\tval-mlogloss:0.18964\n",
      "[30]\ttrain-mlogloss:0.09555\tval-mlogloss:0.10431\n",
      "[40]\ttrain-mlogloss:0.06222\tval-mlogloss:0.07555\n",
      "[50]\ttrain-mlogloss:0.04852\tval-mlogloss:0.06603\n",
      "[60]\ttrain-mlogloss:0.04240\tval-mlogloss:0.06368\n",
      "[70]\ttrain-mlogloss:0.03939\tval-mlogloss:0.06345\n",
      "Stopping. Best iteration:\n",
      "[66]\ttrain-mlogloss:0.04035\tval-mlogloss:0.06337\n",
      "\n"
     ]
    }
   ],
   "source": [
    "res = run_xgb(train_df=df.loc[:2000, :],\n",
    "              val_df=df.loc[2000:4000, :],\n",
    "             train_cols=train_cols,\n",
    "             label_cols='label_binned',\n",
    "             booster_params=booster_params,\n",
    "             train_params=train_params,\n",
    "             log_params=log_params,\n",
    "             kfold=kfold,\n",
    "             metric=my_acc)"
   ]
  },
  {
   "cell_type": "code",
   "execution_count": 27,
   "metadata": {
    "ExecuteTime": {
     "end_time": "2020-09-02T16:17:31.012883Z",
     "start_time": "2020-09-02T16:17:30.942647Z"
    }
   },
   "outputs": [
    {
     "data": {
      "text/plain": [
       "0.9880059970014993"
      ]
     },
     "execution_count": 27,
     "metadata": {},
     "output_type": "execute_result"
    }
   ],
   "source": [
    "accuracy_score(df.loc[2000:4000, 'label_binned'], stats.mode(res[1], 0)[0].reshape((-1, 1)))"
   ]
  },
  {
   "cell_type": "code",
   "execution_count": null,
   "metadata": {},
   "outputs": [],
   "source": []
  },
  {
   "cell_type": "code",
   "execution_count": null,
   "metadata": {},
   "outputs": [],
   "source": []
  },
  {
   "cell_type": "code",
   "execution_count": null,
   "metadata": {},
   "outputs": [],
   "source": []
  }
 ],
 "metadata": {
  "kernelspec": {
   "display_name": "local-venv",
   "language": "python",
   "name": "local-venv"
  },
  "language_info": {
   "codemirror_mode": {
    "name": "ipython",
    "version": 3
   },
   "file_extension": ".py",
   "mimetype": "text/x-python",
   "name": "python",
   "nbconvert_exporter": "python",
   "pygments_lexer": "ipython3",
   "version": "3.7.6"
  }
 },
 "nbformat": 4,
 "nbformat_minor": 4
}
