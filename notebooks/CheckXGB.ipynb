{
 "cells": [
  {
   "cell_type": "code",
   "execution_count": 14,
   "metadata": {
    "ExecuteTime": {
     "end_time": "2022-02-15T11:48:01.639017Z",
     "start_time": "2022-02-15T11:48:01.620800Z"
    }
   },
   "outputs": [],
   "source": [
    "import numpy as np\n",
    "import os\n",
    "import pandas as pd\n",
    "import pickle\n",
    "import xgboost as xgb\n",
    "\n",
    "from run_xgb.reads import read_config\n",
    "from run_xgb.run import run_xgb\n",
    "from scipy import stats\n",
    "from sklearn.model_selection import KFold, train_test_split\n",
    "from sklearn.metrics import accuracy_score, mean_absolute_error\n",
    "\n",
    "pd.options.display.max_columns=500\n",
    "pd.options.display.max_rows=500\n",
    "pd.options.display.max_colwidth=500\n",
    "np.set_printoptions(precision=3)"
   ]
  },
  {
   "cell_type": "code",
   "execution_count": 2,
   "metadata": {
    "ExecuteTime": {
     "end_time": "2022-02-15T11:45:53.755761Z",
     "start_time": "2022-02-15T11:45:53.525219Z"
    }
   },
   "outputs": [],
   "source": [
    "df = pd.read_pickle('../data/input/owid-covid-data.pickle')"
   ]
  },
  {
   "cell_type": "code",
   "execution_count": 3,
   "metadata": {
    "ExecuteTime": {
     "end_time": "2022-02-15T11:45:53.767855Z",
     "start_time": "2022-02-15T11:45:53.756800Z"
    }
   },
   "outputs": [],
   "source": [
    "russia_covid_df = df.loc[df['iso_code']=='RUS']"
   ]
  },
  {
   "cell_type": "code",
   "execution_count": 4,
   "metadata": {
    "ExecuteTime": {
     "end_time": "2022-02-15T11:45:53.795022Z",
     "start_time": "2022-02-15T11:45:53.770257Z"
    }
   },
   "outputs": [
    {
     "data": {
      "text/plain": [
       "date                                   161618\n",
       "aged_70_older                          133347\n",
       "people_fully_vaccinated_per_hundred     38292\n",
       "new_deaths_per_million                 140496\n",
       "dtype: int64"
      ]
     },
     "execution_count": 4,
     "metadata": {},
     "output_type": "execute_result"
    }
   ],
   "source": [
    "(~df[['date',\n",
    "       'aged_70_older',\n",
    "       'people_fully_vaccinated_per_hundred',\n",
    "       'new_deaths_per_million']].isnull()).sum(0)"
   ]
  },
  {
   "cell_type": "code",
   "execution_count": 5,
   "metadata": {
    "ExecuteTime": {
     "end_time": "2022-02-15T11:45:53.816846Z",
     "start_time": "2022-02-15T11:45:53.796321Z"
    }
   },
   "outputs": [],
   "source": [
    "isnull_vacc = (df['people_fully_vaccinated_per_hundred'].isnull()) | (df['new_deaths_per_million'].isnull())\n",
    "df = df[~isnull_vacc]"
   ]
  },
  {
   "cell_type": "code",
   "execution_count": 6,
   "metadata": {
    "ExecuteTime": {
     "end_time": "2022-02-15T11:45:53.825848Z",
     "start_time": "2022-02-15T11:45:53.819174Z"
    }
   },
   "outputs": [],
   "source": [
    "df['new_deaths_per_million_shift1'] = df['new_deaths_per_million'].shift(1)\n",
    "df['new_deaths_per_million_delta'] = df['new_deaths_per_million'] - df['new_deaths_per_million_shift1']"
   ]
  },
  {
   "cell_type": "code",
   "execution_count": 7,
   "metadata": {
    "ExecuteTime": {
     "end_time": "2022-02-15T11:45:53.829293Z",
     "start_time": "2022-02-15T11:45:53.827222Z"
    }
   },
   "outputs": [],
   "source": [
    "df = df.iloc[1:]"
   ]
  },
  {
   "cell_type": "code",
   "execution_count": 8,
   "metadata": {
    "ExecuteTime": {
     "end_time": "2022-02-15T11:45:53.834043Z",
     "start_time": "2022-02-15T11:45:53.830404Z"
    }
   },
   "outputs": [
    {
     "data": {
      "text/plain": [
       "(37602, 69)"
      ]
     },
     "execution_count": 8,
     "metadata": {},
     "output_type": "execute_result"
    }
   ],
   "source": [
    "df.reset_index(drop=True, inplace=True)\n",
    "df.shape"
   ]
  },
  {
   "cell_type": "markdown",
   "metadata": {},
   "source": [
    "### Model check"
   ]
  },
  {
   "cell_type": "code",
   "execution_count": 9,
   "metadata": {
    "ExecuteTime": {
     "end_time": "2022-02-15T11:45:53.838688Z",
     "start_time": "2022-02-15T11:45:53.835173Z"
    }
   },
   "outputs": [],
   "source": [
    "train_cols = ['aged_70_older', \n",
    "              'people_fully_vaccinated_per_hundred',\n",
    "             'new_deaths_per_million_shift1']\n",
    "label_col = 'new_deaths_per_million'\n",
    "train_val_border = 200"
   ]
  },
  {
   "cell_type": "code",
   "execution_count": 10,
   "metadata": {
    "ExecuteTime": {
     "end_time": "2022-02-15T11:45:53.864242Z",
     "start_time": "2022-02-15T11:45:53.841133Z"
    }
   },
   "outputs": [],
   "source": [
    "train, val = train_test_split(df, train_size=.7)"
   ]
  },
  {
   "cell_type": "code",
   "execution_count": 17,
   "metadata": {
    "ExecuteTime": {
     "end_time": "2022-02-15T11:48:24.008483Z",
     "start_time": "2022-02-15T11:48:23.986188Z"
    }
   },
   "outputs": [],
   "source": [
    "kfold = KFold(n_splits=3)\n",
    "config = read_config()"
   ]
  },
  {
   "cell_type": "code",
   "execution_count": 19,
   "metadata": {
    "ExecuteTime": {
     "end_time": "2022-02-15T11:48:55.622476Z",
     "start_time": "2022-02-15T11:48:54.126842Z"
    },
    "collapsed": true
   },
   "outputs": [
    {
     "name": "stdout",
     "output_type": "stream",
     "text": [
      "../data/result/02-15-14\n",
      "[0]\ttrain-rmse:4.88282\tval-rmse:5.00077\n",
      "[10]\ttrain-rmse:3.62698\tval-rmse:3.75716\n",
      "[20]\ttrain-rmse:3.37292\tval-rmse:3.53228\n",
      "[30]\ttrain-rmse:3.29367\tval-rmse:3.49107\n",
      "[40]\ttrain-rmse:3.23158\tval-rmse:3.46930\n",
      "[50]\ttrain-rmse:3.14154\tval-rmse:3.42503\n",
      "[60]\ttrain-rmse:3.08331\tval-rmse:3.40896\n",
      "[70]\ttrain-rmse:3.05690\tval-rmse:3.40928\n",
      "[0]\ttrain-rmse:4.78858\tval-rmse:5.18683\n",
      "[10]\ttrain-rmse:3.48352\tval-rmse:4.00596\n",
      "[20]\ttrain-rmse:3.21842\tval-rmse:3.81156\n",
      "[30]\ttrain-rmse:3.12279\tval-rmse:3.75327\n",
      "[40]\ttrain-rmse:3.07467\tval-rmse:3.73816\n",
      "[50]\ttrain-rmse:3.04166\tval-rmse:3.73194\n",
      "[60]\ttrain-rmse:3.02256\tval-rmse:3.72822\n",
      "[70]\ttrain-rmse:2.96666\tval-rmse:3.72121\n",
      "[80]\ttrain-rmse:2.94869\tval-rmse:3.72135\n",
      "[0]\ttrain-rmse:5.08681\tval-rmse:4.56649\n",
      "[10]\ttrain-rmse:3.78761\tval-rmse:3.32931\n",
      "[20]\ttrain-rmse:3.52284\tval-rmse:3.13613\n",
      "[30]\ttrain-rmse:3.43127\tval-rmse:3.10847\n",
      "[40]\ttrain-rmse:3.38479\tval-rmse:3.11503\n",
      "[50]\ttrain-rmse:3.34351\tval-rmse:3.10726\n",
      "[60]\ttrain-rmse:3.31578\tval-rmse:3.10065\n",
      "[70]\ttrain-rmse:3.26920\tval-rmse:3.09977\n",
      "[80]\ttrain-rmse:3.23736\tval-rmse:3.10132\n"
     ]
    }
   ],
   "source": [
    "res = run_xgb(train=train,\n",
    "              val=val,\n",
    "              train_cols=train_cols,\n",
    "              train_labels=train[label_col],\n",
    "              val_labels=val[label_col],\n",
    "              booster_params=config['booster_params'],\n",
    "              train_params=config['train_params'],\n",
    "              log_params=config['log_params'],\n",
    "              kfold=kfold,\n",
    "              metric=mean_absolute_error)"
   ]
  },
  {
   "cell_type": "markdown",
   "metadata": {
    "ExecuteTime": {
     "end_time": "2020-09-03T09:48:28.752072Z",
     "start_time": "2020-09-03T09:48:28.749198Z"
    }
   },
   "source": [
    "### Feature importance checker"
   ]
  },
  {
   "cell_type": "code",
   "execution_count": 130,
   "metadata": {
    "ExecuteTime": {
     "end_time": "2022-02-14T16:26:44.972989Z",
     "start_time": "2022-02-14T16:26:44.898614Z"
    }
   },
   "outputs": [],
   "source": [
    "with open('../data/result/02-14-19/models/model0.pickle', 'rb') as f:\n",
    "    model = pickle.load(f)"
   ]
  },
  {
   "cell_type": "code",
   "execution_count": 131,
   "metadata": {
    "ExecuteTime": {
     "end_time": "2022-02-14T16:26:45.231423Z",
     "start_time": "2022-02-14T16:26:45.209035Z"
    }
   },
   "outputs": [
    {
     "data": {
      "text/plain": [
       "['aged_70_older',\n",
       " 'people_fully_vaccinated_per_hundred',\n",
       " 'new_deaths_per_million_shift1']"
      ]
     },
     "execution_count": 131,
     "metadata": {},
     "output_type": "execute_result"
    }
   ],
   "source": [
    "model.feature_names"
   ]
  },
  {
   "cell_type": "code",
   "execution_count": 132,
   "metadata": {
    "ExecuteTime": {
     "end_time": "2022-02-14T16:26:45.782319Z",
     "start_time": "2022-02-14T16:26:45.774718Z"
    }
   },
   "outputs": [],
   "source": [
    "from run_xgb.check_importance import check_importance"
   ]
  },
  {
   "cell_type": "code",
   "execution_count": 138,
   "metadata": {
    "ExecuteTime": {
     "end_time": "2022-02-14T16:43:45.617036Z",
     "start_time": "2022-02-14T16:43:45.443917Z"
    },
    "scrolled": true
   },
   "outputs": [
    {
     "name": "stdout",
     "output_type": "stream",
     "text": [
      "Start preds mean --> 2.56    changed preds mean --> 2.43\n",
      "-0.0474\n"
     ]
    }
   ],
   "source": [
    "result = check_importance(df,\n",
    "                          model,\n",
    "                          input_col='people_fully_vaccinated_per_hundred',\n",
    "                          input_change_method='rel',\n",
    "                          target_measure_method='mass_rel',\n",
    "                          agg_method='mean',\n",
    "                          increase_koeff=25)"
   ]
  },
  {
   "cell_type": "code",
   "execution_count": 135,
   "metadata": {
    "ExecuteTime": {
     "end_time": "2022-02-14T16:30:55.904638Z",
     "start_time": "2022-02-14T16:30:55.900260Z"
    }
   },
   "outputs": [
    {
     "data": {
      "text/plain": [
       "2.687699909579278"
      ]
     },
     "execution_count": 135,
     "metadata": {},
     "output_type": "execute_result"
    }
   ],
   "source": [
    "df[label_col].mean()"
   ]
  },
  {
   "cell_type": "code",
   "execution_count": null,
   "metadata": {},
   "outputs": [],
   "source": []
  },
  {
   "cell_type": "code",
   "execution_count": null,
   "metadata": {},
   "outputs": [],
   "source": []
  },
  {
   "cell_type": "code",
   "execution_count": null,
   "metadata": {},
   "outputs": [],
   "source": []
  },
  {
   "cell_type": "code",
   "execution_count": null,
   "metadata": {},
   "outputs": [],
   "source": []
  }
 ],
 "metadata": {
  "kernelspec": {
   "display_name": "run_xgb",
   "language": "python",
   "name": "run_xgb"
  },
  "language_info": {
   "codemirror_mode": {
    "name": "ipython",
    "version": 3
   },
   "file_extension": ".py",
   "mimetype": "text/x-python",
   "name": "python",
   "nbconvert_exporter": "python",
   "pygments_lexer": "ipython3",
   "version": "3.7.4"
  },
  "toc": {
   "base_numbering": 1,
   "nav_menu": {},
   "number_sections": true,
   "sideBar": true,
   "skip_h1_title": false,
   "title_cell": "Table of Contents",
   "title_sidebar": "Contents",
   "toc_cell": false,
   "toc_position": {},
   "toc_section_display": true,
   "toc_window_display": false
  }
 },
 "nbformat": 4,
 "nbformat_minor": 4
}
