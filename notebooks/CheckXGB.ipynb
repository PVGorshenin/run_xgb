{
 "cells": [
  {
   "cell_type": "code",
   "execution_count": 1,
   "metadata": {
    "ExecuteTime": {
     "end_time": "2022-02-16T07:20:24.187184Z",
     "start_time": "2022-02-16T07:20:23.517825Z"
    }
   },
   "outputs": [],
   "source": [
    "import numpy as np\n",
    "import os\n",
    "import pandas as pd\n",
    "import pickle\n",
    "import xgboost as xgb\n",
    "\n",
    "from run_xgb.check_importance import check_importance\n",
    "from run_xgb.reads import read_config\n",
    "from run_xgb.run import run_xgb\n",
    "from scipy import stats\n",
    "from sklearn.model_selection import KFold, train_test_split\n",
    "from sklearn.metrics import accuracy_score, mean_absolute_error\n",
    "\n",
    "pd.options.display.max_columns=500\n",
    "pd.options.display.max_rows=500\n",
    "pd.options.display.max_colwidth=500\n",
    "np.set_printoptions(precision=3)"
   ]
  },
  {
   "cell_type": "code",
   "execution_count": 2,
   "metadata": {
    "ExecuteTime": {
     "end_time": "2022-02-16T07:20:24.302668Z",
     "start_time": "2022-02-16T07:20:24.188703Z"
    }
   },
   "outputs": [],
   "source": [
    "df = pd.read_pickle('../data/input/owid-covid-data.pickle')\n",
    "config = read_config()"
   ]
  },
  {
   "cell_type": "code",
   "execution_count": 3,
   "metadata": {
    "ExecuteTime": {
     "end_time": "2022-02-16T07:20:24.347206Z",
     "start_time": "2022-02-16T07:20:24.304390Z"
    }
   },
   "outputs": [
    {
     "name": "stdout",
     "output_type": "stream",
     "text": [
      "(37603, 67)\n"
     ]
    }
   ],
   "source": [
    "isnull_vacc_or_death = (df['people_fully_vaccinated_per_hundred'].isnull()) \\\n",
    "                        | (df['new_deaths_per_million'].isnull())\n",
    "\n",
    "df = df[~isnull_vacc_or_death]\n",
    "print(df.shape)"
   ]
  },
  {
   "cell_type": "code",
   "execution_count": 4,
   "metadata": {
    "ExecuteTime": {
     "end_time": "2022-02-16T07:20:24.359803Z",
     "start_time": "2022-02-16T07:20:24.352112Z"
    }
   },
   "outputs": [],
   "source": [
    "def get_yesterday_feat(df, config):\n",
    "    \n",
    "    df_lst = []\n",
    "    for country in df['iso_code'].unique():\n",
    "        country_df = df[df['iso_code']==country]\n",
    "        country_df['new_deaths_per_million_shift1'] = country_df['new_deaths_per_million'].shift(1).values\n",
    "        country_df = country_df.iloc[1:]\n",
    "\n",
    "        df_lst.append(country_df)\n",
    "    \n",
    "#     res_df = pd.concat(df_lst)[['date'] + config['train_cols'] + [config['label_col']]]\n",
    "    res_df = pd.concat(df_lst)\n",
    "    res_df.reset_index(drop=True, inplace=True)\n",
    "    return res_df"
   ]
  },
  {
   "cell_type": "code",
   "execution_count": 5,
   "metadata": {
    "ExecuteTime": {
     "end_time": "2022-02-16T07:20:24.373314Z",
     "start_time": "2022-02-16T07:20:24.365658Z"
    }
   },
   "outputs": [
    {
     "name": "stdout",
     "output_type": "stream",
     "text": [
      "False\n"
     ]
    }
   ],
   "source": [
    "train_cols = list(df.dtypes[df.dtypes != 'object'].index) + ['new_deaths_per_million_shift1']\n",
    "\n",
    "train_cols.remove(config['label_col'])\n",
    "config['train_cols'] = train_cols\n",
    "\n",
    "print(config['label_col'] in config['train_cols'])"
   ]
  },
  {
   "cell_type": "code",
   "execution_count": 6,
   "metadata": {
    "ExecuteTime": {
     "end_time": "2022-02-16T07:20:25.186873Z",
     "start_time": "2022-02-16T07:20:24.380546Z"
    }
   },
   "outputs": [
    {
     "name": "stderr",
     "output_type": "stream",
     "text": [
      "/home/saiko/ML/git_pvgorshenin/runners/run_xgb/venv/lib/python3.7/site-packages/ipykernel_launcher.py:6: SettingWithCopyWarning: \n",
      "A value is trying to be set on a copy of a slice from a DataFrame.\n",
      "Try using .loc[row_indexer,col_indexer] = value instead\n",
      "\n",
      "See the caveats in the documentation: https://pandas.pydata.org/pandas-docs/stable/user_guide/indexing.html#returning-a-view-versus-a-copy\n",
      "  \n"
     ]
    }
   ],
   "source": [
    "shift_df = get_yesterday_feat(df, config)\n",
    "shift_df['date'] = pd.to_datetime(shift_df['date'])"
   ]
  },
  {
   "cell_type": "code",
   "execution_count": 7,
   "metadata": {
    "ExecuteTime": {
     "end_time": "2022-02-16T07:20:25.190965Z",
     "start_time": "2022-02-16T07:20:25.187901Z"
    }
   },
   "outputs": [
    {
     "name": "stdout",
     "output_type": "stream",
     "text": [
      "(37389, 68)\n"
     ]
    }
   ],
   "source": [
    "print(shift_df.shape)"
   ]
  },
  {
   "cell_type": "markdown",
   "metadata": {},
   "source": [
    "### Model check"
   ]
  },
  {
   "cell_type": "code",
   "execution_count": 8,
   "metadata": {
    "ExecuteTime": {
     "end_time": "2022-02-16T07:20:25.225466Z",
     "start_time": "2022-02-16T07:20:25.192469Z"
    }
   },
   "outputs": [],
   "source": [
    "train, val = train_test_split(shift_df, train_size=.7)"
   ]
  },
  {
   "cell_type": "code",
   "execution_count": 9,
   "metadata": {
    "ExecuteTime": {
     "end_time": "2022-02-16T07:20:25.233237Z",
     "start_time": "2022-02-16T07:20:25.228813Z"
    }
   },
   "outputs": [],
   "source": [
    "class Splitter():\n",
    "    \n",
    "    def __init__(self):\n",
    "        self.n_splits = 1\n",
    "    \n",
    "    def split(self, df):\n",
    "        q7 = df['date'].quantile(.7)\n",
    "        df.reset_index(inplace=True)\n",
    "        yield (df[df['date'] <= q7].index.values, df[df['date'] > q7].index.values)\n"
   ]
  },
  {
   "cell_type": "code",
   "execution_count": 10,
   "metadata": {
    "ExecuteTime": {
     "end_time": "2022-02-16T07:20:25.255215Z",
     "start_time": "2022-02-16T07:20:25.237665Z"
    }
   },
   "outputs": [],
   "source": [
    "for train_index, test_index in Splitter().split(shift_df):\n",
    "    pass"
   ]
  },
  {
   "cell_type": "code",
   "execution_count": 11,
   "metadata": {
    "ExecuteTime": {
     "end_time": "2022-02-16T07:20:31.277416Z",
     "start_time": "2022-02-16T07:20:25.256999Z"
    }
   },
   "outputs": [
    {
     "name": "stdout",
     "output_type": "stream",
     "text": [
      "../data/result/02-16-10\n",
      "[0]\ttrain-rmse:5.25245\tval-rmse:4.98284\n",
      "[10]\ttrain-rmse:4.18347\tval-rmse:3.98728\n",
      "[20]\ttrain-rmse:3.40583\tval-rmse:3.29928\n",
      "[30]\ttrain-rmse:2.85216\tval-rmse:2.86131\n",
      "[40]\ttrain-rmse:2.46102\tval-rmse:2.59426\n",
      "[50]\ttrain-rmse:2.18621\tval-rmse:2.46437\n",
      "[60]\ttrain-rmse:1.98617\tval-rmse:2.40377\n",
      "[69]\ttrain-rmse:1.85401\tval-rmse:2.42558\n"
     ]
    }
   ],
   "source": [
    "res = run_xgb(train=train,\n",
    "              val=val,\n",
    "              train_cols=config['train_cols'],\n",
    "              train_labels=train[config['label_col']],\n",
    "              val_labels=val[config['label_col']],\n",
    "              booster_params=config['booster_params'],\n",
    "              train_params=config['train_params'],\n",
    "              log_params=config['log_params'],\n",
    "              kfold=Splitter(),\n",
    "              metric=mean_absolute_error)"
   ]
  },
  {
   "cell_type": "markdown",
   "metadata": {
    "ExecuteTime": {
     "end_time": "2020-09-03T09:48:28.752072Z",
     "start_time": "2020-09-03T09:48:28.749198Z"
    }
   },
   "source": [
    "### Feature importance checker"
   ]
  },
  {
   "cell_type": "code",
   "execution_count": 12,
   "metadata": {
    "ExecuteTime": {
     "end_time": "2022-02-16T07:20:31.290087Z",
     "start_time": "2022-02-16T07:20:31.278774Z"
    }
   },
   "outputs": [],
   "source": [
    "with open('../data/result/02-16-10/models/model0.pickle', 'rb') as f:\n",
    "    model = pickle.load(f)"
   ]
  },
  {
   "cell_type": "code",
   "execution_count": 14,
   "metadata": {
    "ExecuteTime": {
     "end_time": "2022-02-16T07:20:31.529524Z",
     "start_time": "2022-02-16T07:20:31.300764Z"
    },
    "scrolled": true
   },
   "outputs": [
    {
     "name": "stdout",
     "output_type": "stream",
     "text": [
      "Start preds mean --> 2.47    changed preds mean --> 2.47\n",
      "0.0000\n"
     ]
    }
   ],
   "source": [
    "result = check_importance(shift_df,\n",
    "                          model,\n",
    "                          input_col='people_fully_vaccinated_per_hundred',\n",
    "                          input_change_method='rel',\n",
    "                          target_measure_method='mass_rel',\n",
    "                          agg_method='mean',\n",
    "                          increase_koeff=25)"
   ]
  },
  {
   "cell_type": "code",
   "execution_count": 15,
   "metadata": {
    "ExecuteTime": {
     "end_time": "2022-02-16T07:20:31.558030Z",
     "start_time": "2022-02-16T07:20:31.538736Z"
    }
   },
   "outputs": [
    {
     "data": {
      "text/plain": [
       "2.687636438582028"
      ]
     },
     "execution_count": 15,
     "metadata": {},
     "output_type": "execute_result"
    }
   ],
   "source": [
    "df[config['label_col']].mean()"
   ]
  },
  {
   "cell_type": "code",
   "execution_count": null,
   "metadata": {},
   "outputs": [],
   "source": []
  },
  {
   "cell_type": "code",
   "execution_count": null,
   "metadata": {},
   "outputs": [],
   "source": []
  },
  {
   "cell_type": "code",
   "execution_count": null,
   "metadata": {},
   "outputs": [],
   "source": []
  },
  {
   "cell_type": "code",
   "execution_count": null,
   "metadata": {},
   "outputs": [],
   "source": []
  }
 ],
 "metadata": {
  "kernelspec": {
   "display_name": "run_xgb",
   "language": "python",
   "name": "run_xgb"
  },
  "language_info": {
   "codemirror_mode": {
    "name": "ipython",
    "version": 3
   },
   "file_extension": ".py",
   "mimetype": "text/x-python",
   "name": "python",
   "nbconvert_exporter": "python",
   "pygments_lexer": "ipython3",
   "version": "3.7.4"
  },
  "toc": {
   "base_numbering": 1,
   "nav_menu": {},
   "number_sections": true,
   "sideBar": true,
   "skip_h1_title": false,
   "title_cell": "Table of Contents",
   "title_sidebar": "Contents",
   "toc_cell": false,
   "toc_position": {},
   "toc_section_display": true,
   "toc_window_display": false
  }
 },
 "nbformat": 4,
 "nbformat_minor": 4
}
