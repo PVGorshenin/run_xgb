{
 "cells": [
  {
   "cell_type": "code",
   "execution_count": 22,
   "metadata": {
    "ExecuteTime": {
     "end_time": "2022-02-14T15:52:43.938977Z",
     "start_time": "2022-02-14T15:52:43.933193Z"
    }
   },
   "outputs": [],
   "source": [
    "import numpy as np\n",
    "import os\n",
    "import pandas as pd\n",
    "import pickle\n",
    "import xgboost as xgb\n",
    "\n",
    "from run_xgb.run import run_xgb\n",
    "from scipy import stats\n",
    "from sklearn.model_selection import KFold, train_test_split\n",
    "from sklearn.metrics import accuracy_score, mean_absolute_error\n",
    "\n",
    "pd.options.display.max_columns=500\n",
    "pd.options.display.max_rows=500\n",
    "pd.options.display.max_colwidth=500\n",
    "np.set_printoptions(precision=3)\n",
    "\n"
   ]
  },
  {
   "cell_type": "code",
   "execution_count": 65,
   "metadata": {
    "ExecuteTime": {
     "end_time": "2022-02-14T16:18:53.291797Z",
     "start_time": "2022-02-14T16:18:53.202089Z"
    }
   },
   "outputs": [],
   "source": [
    "df = pd.read_pickle('../data/input/owid-covid-data.pickle')"
   ]
  },
  {
   "cell_type": "code",
   "execution_count": 66,
   "metadata": {
    "ExecuteTime": {
     "end_time": "2022-02-14T16:18:53.483035Z",
     "start_time": "2022-02-14T16:18:53.441402Z"
    }
   },
   "outputs": [],
   "source": [
    "russia_covid_df = df.loc[df['iso_code']=='RUS']"
   ]
  },
  {
   "cell_type": "code",
   "execution_count": 67,
   "metadata": {
    "ExecuteTime": {
     "end_time": "2022-02-14T16:18:53.710860Z",
     "start_time": "2022-02-14T16:18:53.687297Z"
    }
   },
   "outputs": [
    {
     "data": {
      "text/plain": [
       "date                                   161618\n",
       "aged_70_older                          133347\n",
       "people_fully_vaccinated_per_hundred     38292\n",
       "new_deaths_per_million                 140496\n",
       "dtype: int64"
      ]
     },
     "execution_count": 67,
     "metadata": {},
     "output_type": "execute_result"
    }
   ],
   "source": [
    "(~df[['date',\n",
    "       'aged_70_older',\n",
    "       'people_fully_vaccinated_per_hundred',\n",
    "       'new_deaths_per_million']].isnull()).sum(0)"
   ]
  },
  {
   "cell_type": "code",
   "execution_count": null,
   "metadata": {},
   "outputs": [],
   "source": []
  },
  {
   "cell_type": "code",
   "execution_count": 68,
   "metadata": {
    "ExecuteTime": {
     "end_time": "2022-02-14T16:18:54.706017Z",
     "start_time": "2022-02-14T16:18:54.689741Z"
    }
   },
   "outputs": [],
   "source": [
    "isnull_vacc = (df['people_fully_vaccinated_per_hundred'].isnull()) | (df['new_deaths_per_million'].isnull())\n",
    "df = df[~isnull_vacc]"
   ]
  },
  {
   "cell_type": "code",
   "execution_count": 108,
   "metadata": {
    "ExecuteTime": {
     "end_time": "2022-02-14T16:22:31.573020Z",
     "start_time": "2022-02-14T16:22:31.554581Z"
    }
   },
   "outputs": [],
   "source": [
    "df['new_deaths_per_million_shift1'] = df['new_deaths_per_million'].shift(1)\n",
    "df['new_deaths_per_million_delta'] = df['new_deaths_per_million'] - df['new_deaths_per_million_shift1']"
   ]
  },
  {
   "cell_type": "code",
   "execution_count": 110,
   "metadata": {
    "ExecuteTime": {
     "end_time": "2022-02-14T16:23:00.631580Z",
     "start_time": "2022-02-14T16:23:00.621683Z"
    }
   },
   "outputs": [],
   "source": [
    "df = df.iloc[1:]"
   ]
  },
  {
   "cell_type": "code",
   "execution_count": 111,
   "metadata": {
    "ExecuteTime": {
     "end_time": "2022-02-14T16:23:02.479187Z",
     "start_time": "2022-02-14T16:23:02.473780Z"
    }
   },
   "outputs": [
    {
     "data": {
      "text/plain": [
       "(37602, 69)"
      ]
     },
     "execution_count": 111,
     "metadata": {},
     "output_type": "execute_result"
    }
   ],
   "source": [
    "df.reset_index(drop=True, inplace=True)\n",
    "df.shape"
   ]
  },
  {
   "cell_type": "markdown",
   "metadata": {},
   "source": [
    "### Model check"
   ]
  },
  {
   "cell_type": "code",
   "execution_count": 126,
   "metadata": {
    "ExecuteTime": {
     "end_time": "2022-02-14T16:26:15.734782Z",
     "start_time": "2022-02-14T16:26:15.731845Z"
    }
   },
   "outputs": [],
   "source": [
    "train_cols = ['aged_70_older', \n",
    "              'people_fully_vaccinated_per_hundred',\n",
    "             'new_deaths_per_million_shift1']\n",
    "label_col = 'new_deaths_per_million'\n",
    "train_val_border = 200"
   ]
  },
  {
   "cell_type": "code",
   "execution_count": 117,
   "metadata": {
    "ExecuteTime": {
     "end_time": "2022-02-14T16:23:24.995901Z",
     "start_time": "2022-02-14T16:23:24.960384Z"
    }
   },
   "outputs": [],
   "source": [
    "train, val = train_test_split(df, train_size=.7)"
   ]
  },
  {
   "cell_type": "code",
   "execution_count": 128,
   "metadata": {
    "ExecuteTime": {
     "end_time": "2022-02-14T16:26:41.177958Z",
     "start_time": "2022-02-14T16:26:41.154814Z"
    }
   },
   "outputs": [],
   "source": [
    "kfold = KFold(n_splits=3)\n",
    "\n",
    "train_params = {\n",
    "    'num_boost_round': 200,\n",
    "    'verbose_eval': 10,\n",
    "    'early_stopping_rounds': 10\n",
    "}\n",
    "\n",
    "booster_params = {\n",
    "    'objective': 'reg:squarederror',\n",
    "    \n",
    "    'nthread': -1,\n",
    "    'eta': .1,\n",
    "    'max_depth': 5\n",
    "}\n",
    "\n",
    "log_params = {\n",
    "    'description': 'proba',\n",
    "    'result_path': '../data/result'\n",
    "}"
   ]
  },
  {
   "cell_type": "code",
   "execution_count": 129,
   "metadata": {
    "ExecuteTime": {
     "end_time": "2022-02-14T16:26:43.785457Z",
     "start_time": "2022-02-14T16:26:41.555420Z"
    },
    "scrolled": true
   },
   "outputs": [
    {
     "name": "stdout",
     "output_type": "stream",
     "text": [
      "../data/result/02-14-19\n",
      "[0]\ttrain-rmse:4.82223\tval-rmse:4.88351\n",
      "[10]\ttrain-rmse:3.49878\tval-rmse:3.67075\n",
      "[20]\ttrain-rmse:3.23747\tval-rmse:3.46259\n",
      "[30]\ttrain-rmse:3.14927\tval-rmse:3.41304\n",
      "[40]\ttrain-rmse:3.07737\tval-rmse:3.38714\n",
      "[50]\ttrain-rmse:3.03749\tval-rmse:3.37577\n",
      "[60]\ttrain-rmse:3.01350\tval-rmse:3.36737\n",
      "[70]\ttrain-rmse:3.00122\tval-rmse:3.36514\n",
      "[80]\ttrain-rmse:2.96591\tval-rmse:3.34484\n",
      "[90]\ttrain-rmse:2.93172\tval-rmse:3.33270\n",
      "[100]\ttrain-rmse:2.91478\tval-rmse:3.32655\n",
      "[110]\ttrain-rmse:2.87696\tval-rmse:3.31937\n",
      "[120]\ttrain-rmse:2.84361\tval-rmse:3.32048\n",
      "[130]\ttrain-rmse:2.82230\tval-rmse:3.31624\n",
      "[140]\ttrain-rmse:2.81061\tval-rmse:3.31407\n",
      "[150]\ttrain-rmse:2.78085\tval-rmse:3.30885\n",
      "[160]\ttrain-rmse:2.75028\tval-rmse:3.30495\n",
      "[170]\ttrain-rmse:2.72840\tval-rmse:3.30031\n",
      "[180]\ttrain-rmse:2.71565\tval-rmse:3.29960\n",
      "[190]\ttrain-rmse:2.69238\tval-rmse:3.29616\n",
      "[199]\ttrain-rmse:2.67289\tval-rmse:3.29466\n",
      "[0]\ttrain-rmse:4.85430\tval-rmse:4.80436\n",
      "[10]\ttrain-rmse:3.49606\tval-rmse:3.61901\n",
      "[20]\ttrain-rmse:3.22306\tval-rmse:3.45874\n",
      "[30]\ttrain-rmse:3.14241\tval-rmse:3.43283\n",
      "[40]\ttrain-rmse:3.07956\tval-rmse:3.41814\n",
      "[50]\ttrain-rmse:3.01728\tval-rmse:3.39836\n",
      "[60]\ttrain-rmse:2.98874\tval-rmse:3.39967\n",
      "[62]\ttrain-rmse:2.97917\tval-rmse:3.39984\n",
      "[0]\ttrain-rmse:4.84195\tval-rmse:4.84696\n",
      "[10]\ttrain-rmse:3.58362\tval-rmse:3.48781\n",
      "[20]\ttrain-rmse:3.33613\tval-rmse:3.24353\n",
      "[30]\ttrain-rmse:3.26058\tval-rmse:3.20663\n",
      "[40]\ttrain-rmse:3.21940\tval-rmse:3.19877\n",
      "[50]\ttrain-rmse:3.17646\tval-rmse:3.18038\n",
      "[58]\ttrain-rmse:3.15351\tval-rmse:3.18040\n"
     ]
    }
   ],
   "source": [
    "res = run_xgb(train=train,\n",
    "              val=val,\n",
    "              train_cols=train_cols,\n",
    "              train_labels=train[label_col],\n",
    "              val_labels=val[label_col],\n",
    "              booster_params=booster_params,\n",
    "              train_params=train_params,\n",
    "              log_params=log_params,\n",
    "              kfold=kfold,\n",
    "              metric=mean_absolute_error)"
   ]
  },
  {
   "cell_type": "markdown",
   "metadata": {
    "ExecuteTime": {
     "end_time": "2020-09-03T09:48:28.752072Z",
     "start_time": "2020-09-03T09:48:28.749198Z"
    }
   },
   "source": [
    "### Feature importance checker"
   ]
  },
  {
   "cell_type": "code",
   "execution_count": 130,
   "metadata": {
    "ExecuteTime": {
     "end_time": "2022-02-14T16:26:44.972989Z",
     "start_time": "2022-02-14T16:26:44.898614Z"
    }
   },
   "outputs": [],
   "source": [
    "with open('../data/result/02-14-19/models/model0.pickle', 'rb') as f:\n",
    "    model = pickle.load(f)"
   ]
  },
  {
   "cell_type": "code",
   "execution_count": 131,
   "metadata": {
    "ExecuteTime": {
     "end_time": "2022-02-14T16:26:45.231423Z",
     "start_time": "2022-02-14T16:26:45.209035Z"
    }
   },
   "outputs": [
    {
     "data": {
      "text/plain": [
       "['aged_70_older',\n",
       " 'people_fully_vaccinated_per_hundred',\n",
       " 'new_deaths_per_million_shift1']"
      ]
     },
     "execution_count": 131,
     "metadata": {},
     "output_type": "execute_result"
    }
   ],
   "source": [
    "model.feature_names"
   ]
  },
  {
   "cell_type": "code",
   "execution_count": 132,
   "metadata": {
    "ExecuteTime": {
     "end_time": "2022-02-14T16:26:45.782319Z",
     "start_time": "2022-02-14T16:26:45.774718Z"
    }
   },
   "outputs": [],
   "source": [
    "from run_xgb.check_importance import check_importance"
   ]
  },
  {
   "cell_type": "code",
   "execution_count": 138,
   "metadata": {
    "ExecuteTime": {
     "end_time": "2022-02-14T16:43:45.617036Z",
     "start_time": "2022-02-14T16:43:45.443917Z"
    },
    "scrolled": true
   },
   "outputs": [
    {
     "name": "stdout",
     "output_type": "stream",
     "text": [
      "Start preds mean --> 2.56    changed preds mean --> 2.43\n",
      "-0.0474\n"
     ]
    }
   ],
   "source": [
    "result = check_importance(df,\n",
    "                          model,\n",
    "                          input_col='people_fully_vaccinated_per_hundred',\n",
    "                          input_change_method='rel',\n",
    "                          target_measure_method='mass_rel',\n",
    "                          agg_method='mean',\n",
    "                          increase_koeff=25)"
   ]
  },
  {
   "cell_type": "code",
   "execution_count": 135,
   "metadata": {
    "ExecuteTime": {
     "end_time": "2022-02-14T16:30:55.904638Z",
     "start_time": "2022-02-14T16:30:55.900260Z"
    }
   },
   "outputs": [
    {
     "data": {
      "text/plain": [
       "2.687699909579278"
      ]
     },
     "execution_count": 135,
     "metadata": {},
     "output_type": "execute_result"
    }
   ],
   "source": [
    "df[label_col].mean()"
   ]
  },
  {
   "cell_type": "code",
   "execution_count": null,
   "metadata": {},
   "outputs": [],
   "source": []
  },
  {
   "cell_type": "code",
   "execution_count": null,
   "metadata": {},
   "outputs": [],
   "source": []
  },
  {
   "cell_type": "code",
   "execution_count": null,
   "metadata": {},
   "outputs": [],
   "source": []
  },
  {
   "cell_type": "code",
   "execution_count": null,
   "metadata": {},
   "outputs": [],
   "source": []
  }
 ],
 "metadata": {
  "kernelspec": {
   "display_name": "run_xgb",
   "language": "python",
   "name": "run_xgb"
  },
  "language_info": {
   "codemirror_mode": {
    "name": "ipython",
    "version": 3
   },
   "file_extension": ".py",
   "mimetype": "text/x-python",
   "name": "python",
   "nbconvert_exporter": "python",
   "pygments_lexer": "ipython3",
   "version": "3.7.4"
  },
  "toc": {
   "base_numbering": 1,
   "nav_menu": {},
   "number_sections": true,
   "sideBar": true,
   "skip_h1_title": false,
   "title_cell": "Table of Contents",
   "title_sidebar": "Contents",
   "toc_cell": false,
   "toc_position": {},
   "toc_section_display": true,
   "toc_window_display": false
  }
 },
 "nbformat": 4,
 "nbformat_minor": 4
}
