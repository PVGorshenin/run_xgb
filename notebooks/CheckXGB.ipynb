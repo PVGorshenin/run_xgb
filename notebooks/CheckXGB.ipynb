{
 "cells": [
  {
   "cell_type": "code",
   "execution_count": 1,
   "metadata": {
    "ExecuteTime": {
     "end_time": "2022-02-16T11:57:58.620731Z",
     "start_time": "2022-02-16T11:57:58.087545Z"
    }
   },
   "outputs": [],
   "source": [
    "import numpy as np\n",
    "import os\n",
    "import pandas as pd\n",
    "import pickle\n",
    "import xgboost as xgb\n",
    "\n",
    "from run_xgb.check_importance import check_importance\n",
    "from run_xgb.reads import read_config\n",
    "from run_xgb.run import run_xgb\n",
    "from scipy import stats\n",
    "from sklearn.model_selection import KFold, train_test_split\n",
    "from sklearn.metrics import accuracy_score, mean_absolute_error\n",
    "\n",
    "pd.options.display.max_columns=500\n",
    "pd.options.display.max_rows=500\n",
    "pd.options.display.max_colwidth=500\n",
    "np.set_printoptions(precision=3)"
   ]
  },
  {
   "cell_type": "code",
   "execution_count": 2,
   "metadata": {
    "ExecuteTime": {
     "end_time": "2022-02-16T11:57:58.703545Z",
     "start_time": "2022-02-16T11:57:58.622194Z"
    }
   },
   "outputs": [],
   "source": [
    "df = pd.read_pickle('../data/input/owid-covid-data.pickle')\n",
    "config = read_config()"
   ]
  },
  {
   "cell_type": "code",
   "execution_count": 3,
   "metadata": {
    "ExecuteTime": {
     "end_time": "2022-02-16T11:57:58.722832Z",
     "start_time": "2022-02-16T11:57:58.704530Z"
    }
   },
   "outputs": [
    {
     "name": "stdout",
     "output_type": "stream",
     "text": [
      "(37603, 67)\n"
     ]
    }
   ],
   "source": [
    "isnull_vacc_or_death = (df['people_fully_vaccinated_per_hundred'].isnull()) \\\n",
    "                        | (df['new_deaths_per_million'].isnull())\n",
    "\n",
    "df = df[~isnull_vacc_or_death]\n",
    "print(df.shape)"
   ]
  },
  {
   "cell_type": "code",
   "execution_count": 4,
   "metadata": {
    "ExecuteTime": {
     "end_time": "2022-02-16T11:57:58.728642Z",
     "start_time": "2022-02-16T11:57:58.724405Z"
    }
   },
   "outputs": [],
   "source": [
    "def get_tomorrow_label(df, config):\n",
    "    \n",
    "    df_lst = []\n",
    "    for country in df['iso_code'].unique():\n",
    "        country_df = df[df['iso_code']==country]\n",
    "        country_df['new_deaths_per_million_tomorrow'] = country_df['new_deaths_per_million'].shift(-1).values\n",
    "        country_df = country_df.iloc[:-1]\n",
    "\n",
    "        df_lst.append(country_df)\n",
    "    \n",
    "    res_df = pd.concat(df_lst)[['date'] + config['train_cols'] + [config['label_col']]]\n",
    "    res_df = pd.concat(df_lst)\n",
    "    res_df.reset_index(drop=True, inplace=True)\n",
    "    return res_df"
   ]
  },
  {
   "cell_type": "code",
   "execution_count": 5,
   "metadata": {
    "ExecuteTime": {
     "end_time": "2022-02-16T11:57:59.414805Z",
     "start_time": "2022-02-16T11:57:58.731364Z"
    },
    "scrolled": false
   },
   "outputs": [
    {
     "name": "stderr",
     "output_type": "stream",
     "text": [
      "/home/saiko/ML/git_pvgorshenin/runners/run_xgb/venv/lib/python3.7/site-packages/ipykernel_launcher.py:6: SettingWithCopyWarning: \n",
      "A value is trying to be set on a copy of a slice from a DataFrame.\n",
      "Try using .loc[row_indexer,col_indexer] = value instead\n",
      "\n",
      "See the caveats in the documentation: https://pandas.pydata.org/pandas-docs/stable/user_guide/indexing.html#returning-a-view-versus-a-copy\n",
      "  \n"
     ]
    }
   ],
   "source": [
    "shift_df = get_tomorrow_label(df, config)\n",
    "shift_df['date'] = pd.to_datetime(shift_df['date'])"
   ]
  },
  {
   "cell_type": "code",
   "execution_count": 6,
   "metadata": {
    "ExecuteTime": {
     "end_time": "2022-02-16T11:57:59.419958Z",
     "start_time": "2022-02-16T11:57:59.415803Z"
    }
   },
   "outputs": [
    {
     "name": "stdout",
     "output_type": "stream",
     "text": [
      "(37389, 68)\n"
     ]
    }
   ],
   "source": [
    "print(shift_df.shape)"
   ]
  },
  {
   "cell_type": "markdown",
   "metadata": {},
   "source": [
    "### Model check"
   ]
  },
  {
   "cell_type": "code",
   "execution_count": 7,
   "metadata": {
    "ExecuteTime": {
     "end_time": "2022-02-16T11:57:59.452400Z",
     "start_time": "2022-02-16T11:57:59.421808Z"
    }
   },
   "outputs": [],
   "source": [
    "train, val = train_test_split(shift_df, train_size=.7)"
   ]
  },
  {
   "cell_type": "code",
   "execution_count": 8,
   "metadata": {
    "ExecuteTime": {
     "end_time": "2022-02-16T11:57:59.458153Z",
     "start_time": "2022-02-16T11:57:59.453996Z"
    }
   },
   "outputs": [],
   "source": [
    "class Splitter():\n",
    "    \n",
    "    def __init__(self):\n",
    "        self.n_splits = 1\n",
    "    \n",
    "    def split(self, df):\n",
    "        q7 = df['date'].quantile(.7)\n",
    "        df.reset_index(inplace=True)\n",
    "        yield (df[df['date'] <= q7].index.values, df[df['date'] > q7].index.values)\n"
   ]
  },
  {
   "cell_type": "code",
   "execution_count": 9,
   "metadata": {
    "ExecuteTime": {
     "end_time": "2022-02-16T11:57:59.472842Z",
     "start_time": "2022-02-16T11:57:59.459651Z"
    }
   },
   "outputs": [],
   "source": [
    "for train_index, test_index in Splitter().split(shift_df):\n",
    "    pass"
   ]
  },
  {
   "cell_type": "code",
   "execution_count": 10,
   "metadata": {
    "ExecuteTime": {
     "end_time": "2022-02-16T11:58:00.303608Z",
     "start_time": "2022-02-16T11:57:59.475000Z"
    }
   },
   "outputs": [
    {
     "name": "stdout",
     "output_type": "stream",
     "text": [
      "../data/result/02-16-14\n",
      "[0]\ttrain-rmse:5.22697\tval-rmse:4.82257\n",
      "[10]\ttrain-rmse:4.48660\tval-rmse:4.30901\n",
      "[20]\ttrain-rmse:4.00454\tval-rmse:3.98791\n",
      "[30]\ttrain-rmse:3.69732\tval-rmse:3.78079\n",
      "[40]\ttrain-rmse:3.50018\tval-rmse:3.63641\n",
      "[50]\ttrain-rmse:3.37454\tval-rmse:3.54085\n",
      "[60]\ttrain-rmse:3.28647\tval-rmse:3.48902\n",
      "[70]\ttrain-rmse:3.22316\tval-rmse:3.46595\n",
      "[80]\ttrain-rmse:3.16956\tval-rmse:3.44226\n",
      "[90]\ttrain-rmse:3.13026\tval-rmse:3.42835\n",
      "[100]\ttrain-rmse:3.10637\tval-rmse:3.41896\n",
      "[110]\ttrain-rmse:3.08462\tval-rmse:3.41388\n",
      "[120]\ttrain-rmse:3.06233\tval-rmse:3.41896\n",
      "[121]\ttrain-rmse:3.05981\tval-rmse:3.42028\n"
     ]
    }
   ],
   "source": [
    "res = run_xgb(train=train,\n",
    "              val=val,\n",
    "              train_cols=config['train_cols'],\n",
    "              train_labels=train[config['label_col']],\n",
    "              val_labels=val[config['label_col']],\n",
    "              booster_params=config['booster_params'],\n",
    "              train_params=config['train_params'],\n",
    "              log_params=config['log_params'],\n",
    "              kfold=Splitter(),\n",
    "              metric=mean_absolute_error)"
   ]
  },
  {
   "cell_type": "markdown",
   "metadata": {
    "ExecuteTime": {
     "end_time": "2020-09-03T09:48:28.752072Z",
     "start_time": "2020-09-03T09:48:28.749198Z"
    }
   },
   "source": [
    "### Feature importance checker"
   ]
  },
  {
   "cell_type": "code",
   "execution_count": 16,
   "metadata": {
    "ExecuteTime": {
     "end_time": "2022-02-16T09:30:25.418282Z",
     "start_time": "2022-02-16T09:30:25.404155Z"
    }
   },
   "outputs": [],
   "source": [
    "with open('../data/result/02-16-12/models/model0.pickle', 'rb') as f:\n",
    "    model = pickle.load(f)"
   ]
  },
  {
   "cell_type": "code",
   "execution_count": 17,
   "metadata": {
    "ExecuteTime": {
     "end_time": "2022-02-16T09:30:25.523593Z",
     "start_time": "2022-02-16T09:30:25.419336Z"
    },
    "scrolled": true
   },
   "outputs": [
    {
     "name": "stdout",
     "output_type": "stream",
     "text": [
      "Start preds mean --> 2.52    changed preds mean --> 2.40\n",
      "-0.0487\n"
     ]
    }
   ],
   "source": [
    "result = check_importance(shift_df,\n",
    "                          model,\n",
    "                          input_col='people_fully_vaccinated_per_hundred',\n",
    "                          input_change_method='rel',\n",
    "                          target_measure_method='mass_rel',\n",
    "                          agg_method='mean',\n",
    "                          increase_koeff=25)"
   ]
  },
  {
   "cell_type": "code",
   "execution_count": 18,
   "metadata": {
    "ExecuteTime": {
     "end_time": "2022-02-16T09:30:25.545051Z",
     "start_time": "2022-02-16T09:30:25.526880Z"
    },
    "scrolled": true
   },
   "outputs": [
    {
     "data": {
      "text/plain": [
       "2.6841397202385724"
      ]
     },
     "execution_count": 18,
     "metadata": {},
     "output_type": "execute_result"
    }
   ],
   "source": [
    "shift_df[config['label_col']].mean()"
   ]
  },
  {
   "cell_type": "code",
   "execution_count": 19,
   "metadata": {
    "ExecuteTime": {
     "end_time": "2022-02-16T09:34:17.171927Z",
     "start_time": "2022-02-16T09:34:17.140720Z"
    },
    "scrolled": false
   },
   "outputs": [
    {
     "data": {
      "text/html": [
       "<div>\n",
       "<style scoped>\n",
       "    .dataframe tbody tr th:only-of-type {\n",
       "        vertical-align: middle;\n",
       "    }\n",
       "\n",
       "    .dataframe tbody tr th {\n",
       "        vertical-align: top;\n",
       "    }\n",
       "\n",
       "    .dataframe thead th {\n",
       "        text-align: right;\n",
       "    }\n",
       "</style>\n",
       "<table border=\"1\" class=\"dataframe\">\n",
       "  <thead>\n",
       "    <tr style=\"text-align: right;\">\n",
       "      <th></th>\n",
       "      <th>feature</th>\n",
       "      <th>score</th>\n",
       "    </tr>\n",
       "  </thead>\n",
       "  <tbody>\n",
       "    <tr>\n",
       "      <th>2</th>\n",
       "      <td>new_deaths_per_million</td>\n",
       "      <td>2586.627441</td>\n",
       "    </tr>\n",
       "    <tr>\n",
       "      <th>0</th>\n",
       "      <td>aged_70_older</td>\n",
       "      <td>544.917725</td>\n",
       "    </tr>\n",
       "    <tr>\n",
       "      <th>1</th>\n",
       "      <td>people_fully_vaccinated_per_hundred</td>\n",
       "      <td>223.294739</td>\n",
       "    </tr>\n",
       "  </tbody>\n",
       "</table>\n",
       "</div>"
      ],
      "text/plain": [
       "                               feature        score\n",
       "2               new_deaths_per_million  2586.627441\n",
       "0                        aged_70_older   544.917725\n",
       "1  people_fully_vaccinated_per_hundred   223.294739"
      ]
     },
     "execution_count": 19,
     "metadata": {},
     "output_type": "execute_result"
    }
   ],
   "source": [
    "d = model.get_score(importance_type='gain')\n",
    "pd.DataFrame({'feature': d.keys(), 'score': d.values()}).sort_values(by='score', ascending=False)[:20]"
   ]
  },
  {
   "cell_type": "code",
   "execution_count": null,
   "metadata": {},
   "outputs": [],
   "source": []
  },
  {
   "cell_type": "code",
   "execution_count": 3,
   "metadata": {
    "ExecuteTime": {
     "end_time": "2022-02-17T06:49:08.012004Z",
     "start_time": "2022-02-17T06:49:08.007784Z"
    }
   },
   "outputs": [
    {
     "data": {
      "text/plain": [
       "0.1622427676707426"
      ]
     },
     "execution_count": 3,
     "metadata": {},
     "output_type": "execute_result"
    }
   ],
   "source": [
    "544 / (2586 + 544 + 223)"
   ]
  },
  {
   "cell_type": "code",
   "execution_count": null,
   "metadata": {},
   "outputs": [],
   "source": []
  }
 ],
 "metadata": {
  "kernelspec": {
   "display_name": "run_xgb",
   "language": "python",
   "name": "run_xgb"
  },
  "language_info": {
   "codemirror_mode": {
    "name": "ipython",
    "version": 3
   },
   "file_extension": ".py",
   "mimetype": "text/x-python",
   "name": "python",
   "nbconvert_exporter": "python",
   "pygments_lexer": "ipython3",
   "version": "3.7.4"
  },
  "toc": {
   "base_numbering": 1,
   "nav_menu": {},
   "number_sections": true,
   "sideBar": true,
   "skip_h1_title": false,
   "title_cell": "Table of Contents",
   "title_sidebar": "Contents",
   "toc_cell": false,
   "toc_position": {},
   "toc_section_display": true,
   "toc_window_display": false
  }
 },
 "nbformat": 4,
 "nbformat_minor": 4
}
