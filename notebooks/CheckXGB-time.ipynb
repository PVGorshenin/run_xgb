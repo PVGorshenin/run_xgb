{
 "cells": [
  {
   "cell_type": "code",
   "execution_count": 18,
   "metadata": {
    "ExecuteTime": {
     "end_time": "2022-02-18T13:48:33.894172Z",
     "start_time": "2022-02-18T13:48:33.869263Z"
    }
   },
   "outputs": [],
   "source": [
    "import numpy as np\n",
    "import os\n",
    "import pandas as pd\n",
    "import pickle\n",
    "import xgboost as xgb\n",
    "\n",
    "from dateutil.relativedelta import relativedelta\n",
    "from run_xgb.check_importance import check_importance\n",
    "from run_xgb.reads import read_config\n",
    "from run_xgb.run import run_xgb\n",
    "from scipy import stats\n",
    "from sklearn.model_selection import KFold, train_test_split\n",
    "from sklearn.metrics import accuracy_score, mean_absolute_error\n",
    "\n",
    "pd.options.display.max_columns=500\n",
    "pd.options.display.max_rows=500\n",
    "pd.options.display.max_colwidth=500\n",
    "np.set_printoptions(precision=3)\n",
    "\n",
    "import warnings\n",
    "warnings.filterwarnings('ignore')"
   ]
  },
  {
   "cell_type": "code",
   "execution_count": 19,
   "metadata": {
    "ExecuteTime": {
     "end_time": "2022-02-18T13:48:34.028642Z",
     "start_time": "2022-02-18T13:48:33.904917Z"
    }
   },
   "outputs": [],
   "source": [
    "df = pd.read_pickle('../data/input/owid-covid-data.pickle')\n",
    "config = read_config()"
   ]
  },
  {
   "cell_type": "code",
   "execution_count": 20,
   "metadata": {
    "ExecuteTime": {
     "end_time": "2022-02-18T13:48:34.046057Z",
     "start_time": "2022-02-18T13:48:34.029879Z"
    }
   },
   "outputs": [
    {
     "name": "stdout",
     "output_type": "stream",
     "text": [
      "(37603, 67)\n"
     ]
    }
   ],
   "source": [
    "isnull_vacc_or_death = (df['people_fully_vaccinated_per_hundred'].isnull()) \\\n",
    "                        | (df['new_deaths_per_million'].isnull())\n",
    "\n",
    "df = df[~isnull_vacc_or_death]\n",
    "print(df.shape)"
   ]
  },
  {
   "cell_type": "code",
   "execution_count": 21,
   "metadata": {
    "ExecuteTime": {
     "end_time": "2022-02-18T13:48:34.051076Z",
     "start_time": "2022-02-18T13:48:34.047647Z"
    }
   },
   "outputs": [],
   "source": [
    "def get_tomorrow_label(df, config):\n",
    "    \n",
    "    df_lst = []\n",
    "    for country in df['iso_code'].unique():\n",
    "        country_df = df[df['iso_code']==country]\n",
    "        country_df['new_deaths_per_million_tomorrow'] = country_df['new_deaths_per_million'].shift(-1).values\n",
    "        country_df = country_df.iloc[:-1]\n",
    "\n",
    "        df_lst.append(country_df)\n",
    "    \n",
    "    res_df = pd.concat(df_lst)[['date'] + config['train_cols'] + [config['label_col']]]\n",
    "    res_df = pd.concat(df_lst)\n",
    "    res_df.reset_index(drop=True, inplace=True)\n",
    "    return res_df"
   ]
  },
  {
   "cell_type": "code",
   "execution_count": 22,
   "metadata": {
    "ExecuteTime": {
     "end_time": "2022-02-18T13:48:34.735329Z",
     "start_time": "2022-02-18T13:48:34.052300Z"
    }
   },
   "outputs": [
    {
     "name": "stdout",
     "output_type": "stream",
     "text": [
      "(37389, 68)\n"
     ]
    }
   ],
   "source": [
    "shift_df = get_tomorrow_label(df, config)\n",
    "shift_df['date'] = pd.to_datetime(shift_df['date'])\n",
    "\n",
    "print(shift_df.shape)"
   ]
  },
  {
   "cell_type": "code",
   "execution_count": 23,
   "metadata": {
    "ExecuteTime": {
     "end_time": "2022-02-18T13:48:34.751951Z",
     "start_time": "2022-02-18T13:48:34.737975Z"
    }
   },
   "outputs": [
    {
     "data": {
      "text/plain": [
       "OWID_HIC    427\n",
       "OWID_WRL    427\n",
       "OWID_NAM    427\n",
       "USA         427\n",
       "ISR         421\n",
       "OWID_ASI    421\n",
       "OWID_EUR    419\n",
       "CAN         417\n",
       "CHE         416\n",
       "OWID_EUN    413\n",
       "Name: iso_code, dtype: int64"
      ]
     },
     "execution_count": 23,
     "metadata": {},
     "output_type": "execute_result"
    }
   ],
   "source": [
    "shift_df['iso_code'].value_counts().head(10)"
   ]
  },
  {
   "cell_type": "code",
   "execution_count": 24,
   "metadata": {
    "ExecuteTime": {
     "end_time": "2022-02-18T13:48:34.767640Z",
     "start_time": "2022-02-18T13:48:34.753829Z"
    }
   },
   "outputs": [
    {
     "name": "stdout",
     "output_type": "stream",
     "text": [
      "(305, 68)\n"
     ]
    }
   ],
   "source": [
    "is_null_mask = shift_df[config['train_cols']].isnull().sum(1).astype(bool)\n",
    "is_country = shift_df['iso_code']=='RUS'\n",
    "\n",
    "country_df = shift_df[is_country]\n",
    "print(country_df.shape)"
   ]
  },
  {
   "cell_type": "markdown",
   "metadata": {},
   "source": [
    "### Last time validation"
   ]
  },
  {
   "cell_type": "code",
   "execution_count": 25,
   "metadata": {
    "ExecuteTime": {
     "end_time": "2022-02-18T13:48:34.772495Z",
     "start_time": "2022-02-18T13:48:34.769187Z"
    },
    "code_folding": []
   },
   "outputs": [],
   "source": [
    "%run time_val.py"
   ]
  },
  {
   "cell_type": "code",
   "execution_count": 26,
   "metadata": {
    "ExecuteTime": {
     "end_time": "2022-02-18T13:48:34.777379Z",
     "start_time": "2022-02-18T13:48:34.773613Z"
    },
    "code_folding": [
     0
    ]
   },
   "outputs": [],
   "source": [
    "class Splitter():\n",
    "    \n",
    "    def __init__(self):\n",
    "        self.n_splits = 1\n",
    "    \n",
    "    def split(self, df):\n",
    "        df.reset_index(inplace=True)\n",
    "        yield (df[df['is_train_val'] == False].index.values, df[df['is_train_val'] == True].index.values)"
   ]
  },
  {
   "cell_type": "code",
   "execution_count": 27,
   "metadata": {
    "ExecuteTime": {
     "end_time": "2022-02-18T13:48:34.782396Z",
     "start_time": "2022-02-18T13:48:34.780363Z"
    }
   },
   "outputs": [],
   "source": [
    "val_params = {\n",
    "    'n_points_in_val': 10,\n",
    "    'n_points_in_train_val': 10,\n",
    "    'starting_point': 150,\n",
    "    'date_col': 'date'\n",
    "}"
   ]
  },
  {
   "cell_type": "code",
   "execution_count": 28,
   "metadata": {
    "ExecuteTime": {
     "end_time": "2022-02-18T13:48:36.949105Z",
     "start_time": "2022-02-18T13:48:34.783781Z"
    },
    "code_folding": [],
    "scrolled": true
   },
   "outputs": [
    {
     "name": "stdout",
     "output_type": "stream",
     "text": [
      "Val-part starts with --> 2021-08-12\n",
      "../data/result/02-18-16\n",
      "[0]\ttrain-rmse:4.59321\tval-rmse:4.63587\n",
      "[100]\ttrain-rmse:0.27704\tval-rmse:0.24692\n",
      "[189]\ttrain-rmse:0.10153\tval-rmse:0.12210\n",
      "Val-part starts with --> 2021-08-22\n",
      "../data/result/02-18-16\n",
      "[0]\ttrain-rmse:4.59136\tval-rmse:4.67085\n",
      "[100]\ttrain-rmse:0.27780\tval-rmse:0.25889\n",
      "[200]\ttrain-rmse:0.09850\tval-rmse:0.10000\n",
      "[299]\ttrain-rmse:0.07622\tval-rmse:0.09865\n",
      "Val-part starts with --> 2021-09-01\n",
      "../data/result/02-18-16\n",
      "[0]\ttrain-rmse:4.59000\tval-rmse:4.70162\n",
      "[100]\ttrain-rmse:0.27780\tval-rmse:0.27137\n",
      "[200]\ttrain-rmse:0.10186\tval-rmse:0.09441\n",
      "[299]\ttrain-rmse:0.08027\tval-rmse:0.08917\n",
      "Val-part starts with --> 2021-09-11\n",
      "../data/result/02-18-16\n",
      "[0]\ttrain-rmse:4.59221\tval-rmse:4.68226\n",
      "[100]\ttrain-rmse:0.27640\tval-rmse:0.25994\n",
      "[181]\ttrain-rmse:0.10562\tval-rmse:0.09011\n",
      "Val-part starts with --> 2021-09-22\n",
      "../data/result/02-18-16\n",
      "[0]\ttrain-rmse:4.57744\tval-rmse:4.66570\n",
      "[100]\ttrain-rmse:0.27469\tval-rmse:0.27098\n",
      "[200]\ttrain-rmse:0.09595\tval-rmse:0.11088\n",
      "[268]\ttrain-rmse:0.07880\tval-rmse:0.10928\n",
      "Val-part starts with --> 2021-10-03\n",
      "../data/result/02-18-16\n",
      "[0]\ttrain-rmse:4.53599\tval-rmse:4.87288\n",
      "[100]\ttrain-rmse:0.27130\tval-rmse:0.43271\n",
      "[200]\ttrain-rmse:0.09161\tval-rmse:0.25213\n",
      "[299]\ttrain-rmse:0.06852\tval-rmse:0.24455\n",
      "Val-part starts with --> 2021-10-13\n",
      "../data/result/02-18-16\n",
      "[0]\ttrain-rmse:4.43133\tval-rmse:5.40907\n",
      "[100]\ttrain-rmse:0.26537\tval-rmse:0.51067\n",
      "[200]\ttrain-rmse:0.09344\tval-rmse:0.28212\n",
      "[299]\ttrain-rmse:0.07449\tval-rmse:0.26936\n",
      "Val-part starts with --> 2021-11-04\n",
      "../data/result/02-18-16\n",
      "[0]\ttrain-rmse:4.30815\tval-rmse:6.32644\n",
      "[100]\ttrain-rmse:0.26172\tval-rmse:0.54745\n",
      "[200]\ttrain-rmse:0.09217\tval-rmse:0.26275\n",
      "[299]\ttrain-rmse:0.07171\tval-rmse:0.24708\n",
      "Val-part starts with --> 2021-11-16\n",
      "../data/result/02-18-16\n",
      "[0]\ttrain-rmse:4.20100\tval-rmse:7.18814\n",
      "[100]\ttrain-rmse:0.25871\tval-rmse:0.61230\n",
      "[200]\ttrain-rmse:0.09523\tval-rmse:0.25667\n",
      "[299]\ttrain-rmse:0.07615\tval-rmse:0.24024\n",
      "Val-part starts with --> 2021-11-27\n",
      "../data/result/02-18-16\n",
      "[0]\ttrain-rmse:4.17138\tval-rmse:7.54547\n",
      "[100]\ttrain-rmse:0.25789\tval-rmse:0.88542\n",
      "[200]\ttrain-rmse:0.09276\tval-rmse:0.41332\n",
      "[299]\ttrain-rmse:0.07487\tval-rmse:0.34578\n",
      "Val-part starts with --> 2021-12-07\n",
      "../data/result/02-18-16\n",
      "[0]\ttrain-rmse:4.20277\tval-rmse:7.49565\n",
      "[100]\ttrain-rmse:0.26218\tval-rmse:0.58870\n",
      "[200]\ttrain-rmse:0.09737\tval-rmse:0.10444\n",
      "[236]\ttrain-rmse:0.08825\tval-rmse:0.09663\n",
      "Val-part starts with --> 2021-12-17\n",
      "../data/result/02-18-16\n",
      "[0]\ttrain-rmse:4.29378\tval-rmse:7.15805\n",
      "[100]\ttrain-rmse:0.26096\tval-rmse:0.25588\n",
      "[136]\ttrain-rmse:0.14148\tval-rmse:0.13412\n",
      "Val-part starts with --> 2021-12-28\n",
      "../data/result/02-18-16\n",
      "[0]\ttrain-rmse:4.42388\tval-rmse:6.47502\n",
      "[88]\ttrain-rmse:0.35480\tval-rmse:0.47860\n",
      "Val-part starts with --> 2022-01-12\n",
      "../data/result/02-18-16\n",
      "[0]\ttrain-rmse:4.55385\tval-rmse:5.41974\n",
      "[93]\ttrain-rmse:0.32017\tval-rmse:0.24690\n",
      "Val-part starts with --> 2022-01-28\n",
      "../data/result/02-18-16\n",
      "[0]\ttrain-rmse:4.63868\tval-rmse:4.40752\n",
      "[100]\ttrain-rmse:0.27246\tval-rmse:0.15646\n",
      "[107]\ttrain-rmse:0.23245\tval-rmse:0.15968\n"
     ]
    }
   ],
   "source": [
    "res_lst_simple = []\n",
    "\n",
    "generator = eat_by_points_generator(country_df,\n",
    "                                    n_points_in_val=val_params['n_points_in_val'],\n",
    "                                    n_points_in_train_val=val_params['n_points_in_train_val'],\n",
    "                                    starting_point=val_params['starting_point'],\n",
    "                                    date_col=val_params['date_col'])\n",
    "\n",
    "for (val_mask, train_val_mask) in generator:\n",
    "    val = country_df[val_mask]\n",
    "    train = country_df[~val_mask]\n",
    "    train['is_train_val'] = [False] * train.shape[0]\n",
    "    train.loc[train_val_mask, 'is_train_val'] = True\n",
    "    \n",
    "    res = run_xgb(train=train,\n",
    "                  val=val,\n",
    "                  train_cols=config['train_cols'],\n",
    "                  train_labels=train[config['label_col']],\n",
    "                  val_labels=val[config['label_col']],\n",
    "                  booster_params=config['booster_params'],\n",
    "                  train_params=config['train_params'],\n",
    "                  log_params=config['log_params'],\n",
    "                  kfold=Splitter(),\n",
    "                  metric=mean_absolute_error)\n",
    "    \n",
    "    res_lst_simple.append(res)"
   ]
  },
  {
   "cell_type": "code",
   "execution_count": 29,
   "metadata": {
    "ExecuteTime": {
     "end_time": "2022-02-18T13:48:36.953507Z",
     "start_time": "2022-02-18T13:48:36.950396Z"
    },
    "scrolled": true
   },
   "outputs": [
    {
     "name": "stdout",
     "output_type": "stream",
     "text": [
      "Mean error through validation --> 0.1931\n"
     ]
    }
   ],
   "source": [
    "print('Mean error through validation --> {:.4f}'.format(np.mean(res_lst_simple)))"
   ]
  },
  {
   "cell_type": "markdown",
   "metadata": {},
   "source": [
    "### Metric validation"
   ]
  },
  {
   "cell_type": "code",
   "execution_count": 30,
   "metadata": {
    "ExecuteTime": {
     "end_time": "2022-02-18T13:48:36.957358Z",
     "start_time": "2022-02-18T13:48:36.955193Z"
    }
   },
   "outputs": [],
   "source": [
    "from sklearn.metrics.pairwise import euclidean_distances, cosine_distances\n",
    "from sklearn.preprocessing import MinMaxScaler"
   ]
  },
  {
   "cell_type": "code",
   "execution_count": 31,
   "metadata": {
    "ExecuteTime": {
     "end_time": "2022-02-18T13:48:36.961038Z",
     "start_time": "2022-02-18T13:48:36.958855Z"
    }
   },
   "outputs": [],
   "source": [
    "# weights_hardcode = [0.16, .07, 0.77]"
   ]
  },
  {
   "cell_type": "code",
   "execution_count": 32,
   "metadata": {
    "ExecuteTime": {
     "end_time": "2022-02-18T13:48:36.966072Z",
     "start_time": "2022-02-18T13:48:36.962384Z"
    }
   },
   "outputs": [],
   "source": [
    "%run metric_val.py"
   ]
  },
  {
   "cell_type": "code",
   "execution_count": 33,
   "metadata": {
    "ExecuteTime": {
     "end_time": "2022-02-18T13:48:39.436669Z",
     "start_time": "2022-02-18T13:48:36.967638Z"
    },
    "scrolled": true
   },
   "outputs": [
    {
     "name": "stdout",
     "output_type": "stream",
     "text": [
      "Val-part starts with --> 2021-08-12\n",
      "../data/result/02-18-16\n",
      "[0]\ttrain-rmse:4.59240\tval-rmse:4.64741\n",
      "[100]\ttrain-rmse:0.27670\tval-rmse:0.23484\n",
      "[171]\ttrain-rmse:0.10948\tval-rmse:0.10272\n",
      "Val-part starts with --> 2021-08-22\n",
      "../data/result/02-18-16\n",
      "[0]\ttrain-rmse:4.59386\tval-rmse:4.63552\n",
      "[100]\ttrain-rmse:0.27673\tval-rmse:0.24456\n",
      "[173]\ttrain-rmse:0.10557\tval-rmse:0.10959\n",
      "Val-part starts with --> 2021-09-01\n",
      "../data/result/02-18-16\n",
      "[0]\ttrain-rmse:4.59386\tval-rmse:4.64023\n",
      "[100]\ttrain-rmse:0.27673\tval-rmse:0.26384\n",
      "[189]\ttrain-rmse:0.09777\tval-rmse:0.12062\n",
      "Val-part starts with --> 2021-09-11\n",
      "../data/result/02-18-16\n",
      "[0]\ttrain-rmse:4.56503\tval-rmse:5.05236\n",
      "[100]\ttrain-rmse:0.27344\tval-rmse:0.49822\n",
      "[200]\ttrain-rmse:0.09302\tval-rmse:0.29305\n",
      "[299]\ttrain-rmse:0.07246\tval-rmse:0.28181\n",
      "Val-part starts with --> 2021-09-22\n",
      "../data/result/02-18-16\n",
      "[0]\ttrain-rmse:4.56503\tval-rmse:4.83512\n",
      "[100]\ttrain-rmse:0.27344\tval-rmse:0.35736\n",
      "[200]\ttrain-rmse:0.09302\tval-rmse:0.19715\n",
      "[299]\ttrain-rmse:0.07246\tval-rmse:0.19284\n",
      "Val-part starts with --> 2021-10-03\n",
      "../data/result/02-18-16\n",
      "[0]\ttrain-rmse:4.54966\tval-rmse:4.68840\n",
      "[100]\ttrain-rmse:0.27385\tval-rmse:0.26937\n",
      "[183]\ttrain-rmse:0.10301\tval-rmse:0.11840\n",
      "Val-part starts with --> 2021-10-13\n",
      "../data/result/02-18-16\n",
      "[0]\ttrain-rmse:4.19868\tval-rmse:7.55520\n",
      "[100]\ttrain-rmse:0.25819\tval-rmse:0.73471\n",
      "[200]\ttrain-rmse:0.09424\tval-rmse:0.17227\n",
      "[299]\ttrain-rmse:0.07694\tval-rmse:0.12436\n",
      "Val-part starts with --> 2021-11-04\n",
      "../data/result/02-18-16\n",
      "[0]\ttrain-rmse:4.17927\tval-rmse:7.44147\n",
      "[100]\ttrain-rmse:0.25967\tval-rmse:0.70074\n",
      "[200]\ttrain-rmse:0.09523\tval-rmse:0.20388\n",
      "[299]\ttrain-rmse:0.07662\tval-rmse:0.17897\n",
      "Val-part starts with --> 2021-11-16\n",
      "../data/result/02-18-16\n",
      "[0]\ttrain-rmse:4.17927\tval-rmse:7.37296\n",
      "[100]\ttrain-rmse:0.25967\tval-rmse:0.62860\n",
      "[200]\ttrain-rmse:0.09523\tval-rmse:0.16935\n",
      "[299]\ttrain-rmse:0.07662\tval-rmse:0.15433\n",
      "Val-part starts with --> 2021-11-27\n",
      "../data/result/02-18-16\n",
      "[0]\ttrain-rmse:4.23641\tval-rmse:7.00090\n",
      "[100]\ttrain-rmse:0.26254\tval-rmse:0.42351\n",
      "[200]\ttrain-rmse:0.09814\tval-rmse:0.17285\n",
      "[209]\ttrain-rmse:0.09537\tval-rmse:0.17372\n",
      "Val-part starts with --> 2021-12-07\n",
      "../data/result/02-18-16\n",
      "[0]\ttrain-rmse:4.23641\tval-rmse:7.21834\n",
      "[100]\ttrain-rmse:0.26254\tval-rmse:0.42150\n",
      "[189]\ttrain-rmse:0.10177\tval-rmse:0.13000\n",
      "Val-part starts with --> 2021-12-17\n",
      "../data/result/02-18-16\n",
      "[0]\ttrain-rmse:4.47938\tval-rmse:5.35987\n",
      "[96]\ttrain-rmse:0.29379\tval-rmse:0.29758\n",
      "Val-part starts with --> 2021-12-28\n",
      "../data/result/02-18-16\n",
      "[0]\ttrain-rmse:4.63844\tval-rmse:3.89556\n",
      "[100]\ttrain-rmse:0.27227\tval-rmse:0.26266\n",
      "[200]\ttrain-rmse:0.09078\tval-rmse:0.20131\n",
      "[297]\ttrain-rmse:0.06843\tval-rmse:0.19943\n",
      "Val-part starts with --> 2022-01-12\n",
      "../data/result/02-18-16\n",
      "[0]\ttrain-rmse:4.65362\tval-rmse:4.08856\n",
      "[100]\ttrain-rmse:0.27226\tval-rmse:0.24624\n",
      "[115]\ttrain-rmse:0.19578\tval-rmse:0.25213\n",
      "Val-part starts with --> 2022-01-28\n",
      "../data/result/02-18-16\n",
      "[0]\ttrain-rmse:4.65362\tval-rmse:4.17726\n",
      "[100]\ttrain-rmse:0.27226\tval-rmse:0.20967\n",
      "[107]\ttrain-rmse:0.23169\tval-rmse:0.21469\n"
     ]
    }
   ],
   "source": [
    "res_lst_metric = []\n",
    "\n",
    "generator = eat_by_points_generator(country_df,\n",
    "                                    n_points_in_val=val_params['n_points_in_val'],\n",
    "                                    n_points_in_train_val=val_params['n_points_in_train_val'],\n",
    "                                    starting_point=val_params['starting_point'],\n",
    "                                    date_col='date')\n",
    "\n",
    "for (val_mask, train_val_mask) in generator:\n",
    "    val = country_df[val_mask]\n",
    "    train = country_df[~val_mask]\n",
    "    train['is_train_val'] = [False] * train.shape[0]\n",
    "\n",
    "    scaler = MinMaxScaler().fit(train[config['train_cols']])\n",
    "\n",
    "    val_scaled = scaler.transform(val[config['train_cols']])\n",
    "    val_sc_mean = np.median(val_scaled, 0)\n",
    "    #     input_vector *= weights_hardcode\n",
    "\n",
    "    train_scaled = scaler.transform(train[config['train_cols']])\n",
    "    #     train_sc_weighted *= weights_hardcode\n",
    "\n",
    "    train_val_point, _ = metric_val(val_sc_mean.reshape(1, -1),\n",
    "                                                        train_scaled,\n",
    "                                                        val_params['n_points_in_train_val'])\n",
    "\n",
    "    start_of_train_val = train_val_point - val_params['n_points_in_train_val']\n",
    "    train['is_train_val'].iloc[start_of_train_val:train_val_point] = True\n",
    "\n",
    "    assert train['is_train_val'].sum() >= val_params['n_points_in_train_val']\n",
    "\n",
    "    res = run_xgb(train=train,\n",
    "                  val=val,\n",
    "                  train_cols=config['train_cols'],\n",
    "                  train_labels=train[config['label_col']],\n",
    "                  val_labels=val[config['label_col']],\n",
    "                  booster_params=config['booster_params'],\n",
    "                  train_params=config['train_params'],\n",
    "                  log_params=config['log_params'],\n",
    "                  kfold=Splitter(),\n",
    "                  metric=mean_absolute_error)\n",
    "\n",
    "    res_lst_metric.append(res)"
   ]
  },
  {
   "cell_type": "code",
   "execution_count": 34,
   "metadata": {
    "ExecuteTime": {
     "end_time": "2022-02-18T13:48:39.442804Z",
     "start_time": "2022-02-18T13:48:39.439662Z"
    }
   },
   "outputs": [
    {
     "name": "stdout",
     "output_type": "stream",
     "text": [
      "Mean error through validation --> 0.1923\n",
      "Mean error through validation simple--> 0.1931\n"
     ]
    }
   ],
   "source": [
    "print('Mean error through validation --> {:.4f}'.format(np.mean(res_lst_metric)))\n",
    "print('Mean error through validation simple--> {:.4f}'.format(np.mean(res_lst_simple)))"
   ]
  },
  {
   "cell_type": "code",
   "execution_count": null,
   "metadata": {},
   "outputs": [],
   "source": []
  },
  {
   "cell_type": "code",
   "execution_count": null,
   "metadata": {},
   "outputs": [],
   "source": []
  },
  {
   "cell_type": "code",
   "execution_count": null,
   "metadata": {},
   "outputs": [],
   "source": []
  }
 ],
 "metadata": {
  "kernelspec": {
   "display_name": "run_xgb",
   "language": "python",
   "name": "run_xgb"
  },
  "language_info": {
   "codemirror_mode": {
    "name": "ipython",
    "version": 3
   },
   "file_extension": ".py",
   "mimetype": "text/x-python",
   "name": "python",
   "nbconvert_exporter": "python",
   "pygments_lexer": "ipython3",
   "version": "3.7.4"
  },
  "toc": {
   "base_numbering": 1,
   "nav_menu": {},
   "number_sections": true,
   "sideBar": true,
   "skip_h1_title": false,
   "title_cell": "Table of Contents",
   "title_sidebar": "Contents",
   "toc_cell": false,
   "toc_position": {},
   "toc_section_display": true,
   "toc_window_display": false
  }
 },
 "nbformat": 4,
 "nbformat_minor": 4
}
