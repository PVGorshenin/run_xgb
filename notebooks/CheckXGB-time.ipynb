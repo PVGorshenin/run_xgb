{
 "cells": [
  {
   "cell_type": "code",
   "execution_count": 3,
   "metadata": {
    "ExecuteTime": {
     "end_time": "2022-02-23T13:55:30.185162Z",
     "start_time": "2022-02-23T13:55:29.882199Z"
    }
   },
   "outputs": [],
   "source": [
    "import numpy as np\n",
    "import os\n",
    "import pandas as pd\n",
    "import pickle\n",
    "import xgboost as xgb\n",
    "\n",
    "from dateutil.relativedelta import relativedelta\n",
    "from run_xgb.check_importance import check_importance\n",
    "from run_xgb.reads import read_config\n",
    "from run_xgb.run import run_xgb\n",
    "from scipy import stats\n",
    "from sklearn.model_selection import KFold, train_test_split\n",
    "from sklearn.metrics import accuracy_score, mean_absolute_error\n",
    "\n",
    "pd.options.display.max_columns=500\n",
    "pd.options.display.max_rows=500\n",
    "pd.options.display.max_colwidth=500\n",
    "np.set_printoptions(precision=3)\n",
    "\n",
    "import warnings\n",
    "warnings.filterwarnings('ignore')"
   ]
  },
  {
   "cell_type": "code",
   "execution_count": 4,
   "metadata": {
    "ExecuteTime": {
     "end_time": "2022-02-23T13:55:30.406228Z",
     "start_time": "2022-02-23T13:55:30.186563Z"
    }
   },
   "outputs": [],
   "source": [
    "df = pd.read_pickle('../data/input/owid-covid-data.pickle')\n",
    "config = read_config()"
   ]
  },
  {
   "cell_type": "code",
   "execution_count": 5,
   "metadata": {
    "ExecuteTime": {
     "end_time": "2022-02-23T13:55:30.429201Z",
     "start_time": "2022-02-23T13:55:30.407210Z"
    }
   },
   "outputs": [
    {
     "name": "stdout",
     "output_type": "stream",
     "text": [
      "(37603, 67)\n"
     ]
    }
   ],
   "source": [
    "isnull_vacc_or_death = (df['people_fully_vaccinated_per_hundred'].isnull()) \\\n",
    "                        | (df['new_deaths_per_million'].isnull())\n",
    "\n",
    "df = df[~isnull_vacc_or_death]\n",
    "print(df.shape)"
   ]
  },
  {
   "cell_type": "code",
   "execution_count": 6,
   "metadata": {
    "ExecuteTime": {
     "end_time": "2022-02-23T13:55:30.434729Z",
     "start_time": "2022-02-23T13:55:30.430896Z"
    }
   },
   "outputs": [],
   "source": [
    "def get_tomorrow_label(df, config):\n",
    "    \n",
    "    df_lst = []\n",
    "    for country in df['iso_code'].unique():\n",
    "        country_df = df[df['iso_code']==country]\n",
    "        country_df['new_deaths_per_million_tomorrow'] = country_df['new_deaths_per_million'].shift(-1).values\n",
    "        country_df = country_df.iloc[:-1]\n",
    "\n",
    "        df_lst.append(country_df)\n",
    "    \n",
    "    res_df = pd.concat(df_lst)[['date'] + config['train_cols'] + [config['label_col']]]\n",
    "    res_df = pd.concat(df_lst)\n",
    "    res_df.reset_index(drop=True, inplace=True)\n",
    "    return res_df"
   ]
  },
  {
   "cell_type": "code",
   "execution_count": 7,
   "metadata": {
    "ExecuteTime": {
     "end_time": "2022-02-23T13:55:31.093781Z",
     "start_time": "2022-02-23T13:55:30.436726Z"
    }
   },
   "outputs": [
    {
     "name": "stdout",
     "output_type": "stream",
     "text": [
      "(37389, 68)\n"
     ]
    }
   ],
   "source": [
    "shift_df = get_tomorrow_label(df, config)\n",
    "shift_df['date'] = pd.to_datetime(shift_df['date'])\n",
    "\n",
    "print(shift_df.shape)"
   ]
  },
  {
   "cell_type": "code",
   "execution_count": 8,
   "metadata": {
    "ExecuteTime": {
     "end_time": "2022-02-23T13:55:31.113024Z",
     "start_time": "2022-02-23T13:55:31.095319Z"
    }
   },
   "outputs": [
    {
     "data": {
      "text/plain": [
       "OWID_HIC    427\n",
       "OWID_WRL    427\n",
       "OWID_NAM    427\n",
       "USA         427\n",
       "ISR         421\n",
       "OWID_ASI    421\n",
       "OWID_EUR    419\n",
       "CAN         417\n",
       "CHE         416\n",
       "OWID_EUN    413\n",
       "Name: iso_code, dtype: int64"
      ]
     },
     "execution_count": 8,
     "metadata": {},
     "output_type": "execute_result"
    }
   ],
   "source": [
    "shift_df['iso_code'].value_counts().head(10)"
   ]
  },
  {
   "cell_type": "code",
   "execution_count": 9,
   "metadata": {
    "ExecuteTime": {
     "end_time": "2022-02-23T13:55:31.136356Z",
     "start_time": "2022-02-23T13:55:31.114960Z"
    }
   },
   "outputs": [
    {
     "name": "stdout",
     "output_type": "stream",
     "text": [
      "(305, 68)\n"
     ]
    }
   ],
   "source": [
    "is_null_mask = shift_df[config['train_cols']].isnull().sum(1).astype(bool)\n",
    "is_country = shift_df['iso_code']=='RUS'\n",
    "\n",
    "country_df = shift_df[is_country]\n",
    "print(country_df.shape)"
   ]
  },
  {
   "cell_type": "markdown",
   "metadata": {},
   "source": [
    "### Last time validation"
   ]
  },
  {
   "cell_type": "code",
   "execution_count": 10,
   "metadata": {
    "ExecuteTime": {
     "end_time": "2022-02-23T13:55:31.142492Z",
     "start_time": "2022-02-23T13:55:31.137700Z"
    },
    "code_folding": []
   },
   "outputs": [],
   "source": [
    "%run time_val.py"
   ]
  },
  {
   "cell_type": "code",
   "execution_count": 11,
   "metadata": {
    "ExecuteTime": {
     "end_time": "2022-02-23T13:55:31.153615Z",
     "start_time": "2022-02-23T13:55:31.149474Z"
    },
    "code_folding": []
   },
   "outputs": [],
   "source": [
    "class Splitter():\n",
    "    \n",
    "    def __init__(self):\n",
    "        self.n_splits = 1\n",
    "    \n",
    "    def split(self, df):\n",
    "        df.reset_index(inplace=True)\n",
    "        yield (df[df['is_train_val'] == False].index.values, df[df['is_train_val'] == True].index.values)"
   ]
  },
  {
   "cell_type": "code",
   "execution_count": 12,
   "metadata": {
    "ExecuteTime": {
     "end_time": "2022-02-23T13:55:31.159399Z",
     "start_time": "2022-02-23T13:55:31.156813Z"
    }
   },
   "outputs": [],
   "source": [
    "val_params = {\n",
    "    'n_points_in_val': 10,\n",
    "    'n_points_in_train_val': 10,\n",
    "    'starting_point': 150,\n",
    "    'date_col': 'date'\n",
    "}"
   ]
  },
  {
   "cell_type": "code",
   "execution_count": 13,
   "metadata": {
    "ExecuteTime": {
     "end_time": "2022-02-23T13:55:33.478299Z",
     "start_time": "2022-02-23T13:55:31.161096Z"
    },
    "code_folding": [],
    "scrolled": true
   },
   "outputs": [
    {
     "name": "stdout",
     "output_type": "stream",
     "text": [
      "Val-part starts with --> 2021-08-12\n",
      "../data/result/02-23-16\n",
      "[0]\ttrain-rmse:4.59482\tval-rmse:4.64233\n",
      "[100]\ttrain-rmse:0.27688\tval-rmse:0.23962\n",
      "[200]\ttrain-rmse:0.10081\tval-rmse:0.08167\n",
      "[205]\ttrain-rmse:0.09927\tval-rmse:0.08156\n",
      "Val-part starts with --> 2021-08-22\n",
      "../data/result/02-23-16\n",
      "[0]\ttrain-rmse:4.59309\tval-rmse:4.70972\n",
      "[100]\ttrain-rmse:0.27656\tval-rmse:0.25982\n",
      "[200]\ttrain-rmse:0.10065\tval-rmse:0.09313\n",
      "[226]\ttrain-rmse:0.09061\tval-rmse:0.09283\n",
      "Val-part starts with --> 2021-09-01\n",
      "../data/result/02-23-16\n",
      "[0]\ttrain-rmse:4.59402\tval-rmse:4.69231\n",
      "[100]\ttrain-rmse:0.27685\tval-rmse:0.27883\n",
      "[178]\ttrain-rmse:0.11029\tval-rmse:0.11115\n",
      "Val-part starts with --> 2021-09-11\n",
      "../data/result/02-23-16\n",
      "[0]\ttrain-rmse:4.59565\tval-rmse:4.68286\n",
      "[100]\ttrain-rmse:0.27611\tval-rmse:0.23955\n",
      "[200]\ttrain-rmse:0.09818\tval-rmse:0.03169\n",
      "[205]\ttrain-rmse:0.09677\tval-rmse:0.03194\n",
      "Val-part starts with --> 2021-09-22\n",
      "../data/result/02-23-16\n",
      "[0]\ttrain-rmse:4.58098\tval-rmse:4.64616\n",
      "[100]\ttrain-rmse:0.27385\tval-rmse:0.27326\n",
      "[200]\ttrain-rmse:0.09514\tval-rmse:0.15117\n",
      "[208]\ttrain-rmse:0.09267\tval-rmse:0.15147\n",
      "Val-part starts with --> 2021-10-03\n",
      "../data/result/02-23-16\n",
      "[0]\ttrain-rmse:4.53971\tval-rmse:5.08794\n",
      "[100]\ttrain-rmse:0.27116\tval-rmse:0.55577\n",
      "[200]\ttrain-rmse:0.09520\tval-rmse:0.33979\n",
      "[299]\ttrain-rmse:0.07426\tval-rmse:0.32733\n",
      "Val-part starts with --> 2021-10-13\n",
      "../data/result/02-23-16\n",
      "[0]\ttrain-rmse:4.45533\tval-rmse:5.71072\n",
      "[100]\ttrain-rmse:0.26692\tval-rmse:0.50276\n",
      "[200]\ttrain-rmse:0.09460\tval-rmse:0.20220\n",
      "[299]\ttrain-rmse:0.07317\tval-rmse:0.18663\n",
      "Val-part starts with --> 2021-11-04\n",
      "../data/result/02-23-16\n",
      "[0]\ttrain-rmse:4.36356\tval-rmse:6.88532\n",
      "[100]\ttrain-rmse:0.26298\tval-rmse:0.58523\n",
      "[200]\ttrain-rmse:0.09254\tval-rmse:0.32782\n",
      "[299]\ttrain-rmse:0.07331\tval-rmse:0.31460\n",
      "Val-part starts with --> 2021-11-16\n",
      "../data/result/02-23-16\n",
      "[0]\ttrain-rmse:4.32328\tval-rmse:7.46608\n",
      "[100]\ttrain-rmse:0.26452\tval-rmse:0.62916\n",
      "[200]\ttrain-rmse:0.09600\tval-rmse:0.15668\n",
      "[299]\ttrain-rmse:0.07559\tval-rmse:0.13293\n",
      "Val-part starts with --> 2021-11-27\n",
      "../data/result/02-23-16\n",
      "[0]\ttrain-rmse:4.32815\tval-rmse:7.60012\n",
      "[100]\ttrain-rmse:0.26595\tval-rmse:0.68126\n",
      "[200]\ttrain-rmse:0.09685\tval-rmse:0.14272\n",
      "[262]\ttrain-rmse:0.08255\tval-rmse:0.12512\n",
      "Val-part starts with --> 2021-12-07\n",
      "../data/result/02-23-16\n",
      "[0]\ttrain-rmse:4.36521\tval-rmse:7.37574\n",
      "[100]\ttrain-rmse:0.26541\tval-rmse:0.30662\n",
      "[147]\ttrain-rmse:0.12969\tval-rmse:0.08076\n",
      "Val-part starts with --> 2021-12-17\n",
      "../data/result/02-23-16\n",
      "[0]\ttrain-rmse:4.43719\tval-rmse:6.93591\n",
      "[100]\ttrain-rmse:0.26602\tval-rmse:0.21479\n",
      "[130]\ttrain-rmse:0.15434\tval-rmse:0.16017\n",
      "Val-part starts with --> 2021-12-28\n",
      "../data/result/02-23-16\n",
      "[0]\ttrain-rmse:4.53573\tval-rmse:5.97896\n",
      "[85]\ttrain-rmse:0.39095\tval-rmse:0.20504\n",
      "Val-part starts with --> 2022-01-12\n",
      "../data/result/02-23-16\n",
      "[0]\ttrain-rmse:4.61255\tval-rmse:4.79562\n",
      "[100]\ttrain-rmse:0.27498\tval-rmse:0.22509\n",
      "[118]\ttrain-rmse:0.19038\tval-rmse:0.22187\n",
      "Val-part starts with --> 2022-01-28\n",
      "../data/result/02-23-16\n",
      "[0]\ttrain-rmse:4.64400\tval-rmse:3.98434\n",
      "[100]\ttrain-rmse:0.27257\tval-rmse:0.10722\n",
      "[111]\ttrain-rmse:0.21328\tval-rmse:0.10749\n"
     ]
    }
   ],
   "source": [
    "res_lst_simple = []\n",
    "\n",
    "generator = eat_by_points_generator(country_df,\n",
    "                                    n_points_in_val=val_params['n_points_in_val'],\n",
    "                                    n_points_in_train_val=val_params['n_points_in_train_val'],\n",
    "                                    starting_point=val_params['starting_point'],\n",
    "                                    date_col=val_params['date_col'])\n",
    "\n",
    "for (val_mask, train_val_mask) in generator:\n",
    "    val = country_df[val_mask]\n",
    "    train = country_df[~val_mask]\n",
    "    train['is_train_val'] = [False] * train.shape[0]\n",
    "    train.loc[train_val_mask, 'is_train_val'] = True\n",
    "    \n",
    "    res = run_xgb(train=train,\n",
    "                  val=val,\n",
    "                  train_cols=config['train_cols'],\n",
    "                  train_labels=train[config['label_col']],\n",
    "                  val_labels=val[config['label_col']],\n",
    "                  booster_params=config['booster_params'],\n",
    "                  train_params=config['train_params'],\n",
    "                  log_params=config['log_params'],\n",
    "                  kfold=Splitter(),\n",
    "                  metric=mean_absolute_error)\n",
    "    \n",
    "    res_lst_simple.append(res)"
   ]
  },
  {
   "cell_type": "code",
   "execution_count": 14,
   "metadata": {
    "ExecuteTime": {
     "end_time": "2022-02-23T13:55:33.483002Z",
     "start_time": "2022-02-23T13:55:33.479917Z"
    },
    "scrolled": true
   },
   "outputs": [
    {
     "name": "stdout",
     "output_type": "stream",
     "text": [
      "Mean error through validation --> 0.1800\n"
     ]
    }
   ],
   "source": [
    "print('Mean error through validation --> {:.4f}'.format(np.mean(res_lst_simple)))"
   ]
  },
  {
   "cell_type": "markdown",
   "metadata": {},
   "source": [
    "### Metric validation"
   ]
  },
  {
   "cell_type": "code",
   "execution_count": 15,
   "metadata": {
    "ExecuteTime": {
     "end_time": "2022-02-23T13:55:33.487780Z",
     "start_time": "2022-02-23T13:55:33.484953Z"
    }
   },
   "outputs": [],
   "source": [
    "from sklearn.metrics.pairwise import euclidean_distances, cosine_distances\n",
    "from sklearn.preprocessing import MinMaxScaler"
   ]
  },
  {
   "cell_type": "code",
   "execution_count": 17,
   "metadata": {
    "ExecuteTime": {
     "end_time": "2022-02-23T13:55:47.904409Z",
     "start_time": "2022-02-23T13:55:47.898467Z"
    }
   },
   "outputs": [],
   "source": [
    "# weights_hardcode = [0.16, .07, 0.77]\n",
    "time_reduce_func = np.median"
   ]
  },
  {
   "cell_type": "code",
   "execution_count": 18,
   "metadata": {
    "ExecuteTime": {
     "end_time": "2022-02-23T13:55:49.378570Z",
     "start_time": "2022-02-23T13:55:49.374853Z"
    }
   },
   "outputs": [],
   "source": [
    "%run metric_val.py"
   ]
  },
  {
   "cell_type": "code",
   "execution_count": 19,
   "metadata": {
    "ExecuteTime": {
     "end_time": "2022-02-23T13:56:09.773848Z",
     "start_time": "2022-02-23T13:56:07.388056Z"
    },
    "scrolled": true
   },
   "outputs": [
    {
     "name": "stdout",
     "output_type": "stream",
     "text": [
      "Val-part starts with --> 2021-08-12\n",
      "../data/result/02-23-16\n",
      "[0]\ttrain-rmse:4.59332\tval-rmse:4.68581\n",
      "[100]\ttrain-rmse:0.27718\tval-rmse:0.24201\n",
      "[200]\ttrain-rmse:0.09916\tval-rmse:0.06308\n",
      "[259]\ttrain-rmse:0.08488\tval-rmse:0.06118\n",
      "Val-part starts with --> 2021-08-22\n",
      "../data/result/02-23-16\n",
      "[0]\ttrain-rmse:4.59473\tval-rmse:4.66237\n",
      "[100]\ttrain-rmse:0.27696\tval-rmse:0.23364\n",
      "[200]\ttrain-rmse:0.10018\tval-rmse:0.06899\n",
      "[205]\ttrain-rmse:0.09843\tval-rmse:0.06905\n",
      "Val-part starts with --> 2021-09-01\n",
      "../data/result/02-23-16\n",
      "[0]\ttrain-rmse:4.59643\tval-rmse:4.62227\n",
      "[100]\ttrain-rmse:0.27562\tval-rmse:0.23317\n",
      "[172]\ttrain-rmse:0.10967\tval-rmse:0.14029\n",
      "Val-part starts with --> 2021-09-11\n",
      "../data/result/02-23-16\n",
      "[0]\ttrain-rmse:4.59404\tval-rmse:4.72902\n",
      "[100]\ttrain-rmse:0.27581\tval-rmse:0.26703\n",
      "[200]\ttrain-rmse:0.09858\tval-rmse:0.07452\n",
      "[235]\ttrain-rmse:0.08731\tval-rmse:0.07394\n",
      "Val-part starts with --> 2021-09-22\n",
      "../data/result/02-23-16\n",
      "[0]\ttrain-rmse:4.56683\tval-rmse:5.03864\n",
      "[100]\ttrain-rmse:0.27325\tval-rmse:0.41731\n",
      "[200]\ttrain-rmse:0.09719\tval-rmse:0.21841\n",
      "[299]\ttrain-rmse:0.07514\tval-rmse:0.20979\n",
      "Val-part starts with --> 2021-10-03\n",
      "../data/result/02-23-16\n",
      "[0]\ttrain-rmse:4.50948\tval-rmse:5.80099\n",
      "[100]\ttrain-rmse:0.26782\tval-rmse:0.70225\n",
      "[200]\ttrain-rmse:0.09326\tval-rmse:0.44746\n",
      "[299]\ttrain-rmse:0.07415\tval-rmse:0.42940\n",
      "Val-part starts with --> 2021-10-13\n",
      "../data/result/02-23-16\n",
      "[0]\ttrain-rmse:4.35623\tval-rmse:7.58616\n",
      "[100]\ttrain-rmse:0.26275\tval-rmse:0.59743\n",
      "[200]\ttrain-rmse:0.09119\tval-rmse:0.11210\n",
      "[299]\ttrain-rmse:0.07382\tval-rmse:0.08965\n",
      "Val-part starts with --> 2021-11-04\n",
      "../data/result/02-23-16\n",
      "[0]\ttrain-rmse:4.33823\tval-rmse:7.34546\n",
      "[100]\ttrain-rmse:0.26415\tval-rmse:0.48394\n",
      "[185]\ttrain-rmse:0.10080\tval-rmse:0.16973\n",
      "Val-part starts with --> 2021-11-16\n",
      "../data/result/02-23-16\n",
      "[0]\ttrain-rmse:4.32111\tval-rmse:7.50301\n",
      "[100]\ttrain-rmse:0.26431\tval-rmse:0.68285\n",
      "[200]\ttrain-rmse:0.09725\tval-rmse:0.13520\n",
      "[299]\ttrain-rmse:0.07497\tval-rmse:0.08470\n",
      "Val-part starts with --> 2021-11-27\n",
      "../data/result/02-23-16\n",
      "[0]\ttrain-rmse:4.34014\tval-rmse:7.39589\n",
      "[100]\ttrain-rmse:0.26632\tval-rmse:0.45189\n",
      "[200]\ttrain-rmse:0.09748\tval-rmse:0.04913\n",
      "[227]\ttrain-rmse:0.09131\tval-rmse:0.04691\n",
      "Val-part starts with --> 2021-12-07\n",
      "../data/result/02-23-16\n",
      "[0]\ttrain-rmse:4.39124\tval-rmse:6.90356\n",
      "[100]\ttrain-rmse:0.26613\tval-rmse:0.31226\n",
      "[179]\ttrain-rmse:0.10523\tval-rmse:0.14128\n",
      "Val-part starts with --> 2021-12-17\n",
      "../data/result/02-23-16\n",
      "[0]\ttrain-rmse:4.47539\tval-rmse:6.20073\n",
      "[100]\ttrain-rmse:0.26716\tval-rmse:0.21412\n",
      "Val-part starts with --> 2021-12-28\n",
      "../data/result/02-23-16\n",
      "[0]\ttrain-rmse:4.61716\tval-rmse:3.82555\n",
      "[100]\ttrain-rmse:0.27425\tval-rmse:0.17560\n",
      "[126]\ttrain-rmse:0.16584\tval-rmse:0.15501\n",
      "Val-part starts with --> 2022-01-12\n",
      "../data/result/02-23-16\n",
      "[0]\ttrain-rmse:4.63920\tval-rmse:3.97183\n",
      "[100]\ttrain-rmse:0.27322\tval-rmse:0.44024\n",
      "[200]\ttrain-rmse:0.09299\tval-rmse:0.35649\n",
      "[299]\ttrain-rmse:0.07281\tval-rmse:0.34896\n",
      "Val-part starts with --> 2022-01-28\n",
      "../data/result/02-23-16\n",
      "[0]\ttrain-rmse:4.64377\tval-rmse:3.99237\n",
      "[100]\ttrain-rmse:0.27221\tval-rmse:0.28530\n",
      "[200]\ttrain-rmse:0.08839\tval-rmse:0.17616\n",
      "[299]\ttrain-rmse:0.06905\tval-rmse:0.16726\n"
     ]
    }
   ],
   "source": [
    "res_lst_metric = []\n",
    "\n",
    "generator = eat_by_points_generator(country_df,\n",
    "                                    n_points_in_val=val_params['n_points_in_val'],\n",
    "                                    n_points_in_train_val=val_params['n_points_in_train_val'],\n",
    "                                    starting_point=val_params['starting_point'],\n",
    "                                    date_col='date')\n",
    "\n",
    "for (val_mask, train_val_mask) in generator:\n",
    "    val = country_df[val_mask]\n",
    "    train = country_df[~val_mask]\n",
    "    train['is_train_val'] = [False] * train.shape[0]\n",
    "\n",
    "    scaler = MinMaxScaler().fit(train[config['train_cols']])\n",
    "\n",
    "    val_scaled = scaler.transform(val[config['train_cols']])\n",
    "    val_sc_mean = time_reduce_func(val_scaled, 0)\n",
    "    #     input_vector *= weights_hardcode\n",
    "\n",
    "    train_scaled = scaler.transform(train[config['train_cols']])\n",
    "    #     train_sc_weighted *= weights_hardcode\n",
    "\n",
    "    train_val_point, _ = metric_val(val_sc_mean.reshape(1, -1),\n",
    "                                    train_scaled,\n",
    "                                    val_params['n_points_in_train_val'],\n",
    "                                    time_reduce_func)\n",
    "\n",
    "    start_of_train_val = train_val_point - val_params['n_points_in_train_val']\n",
    "    train['is_train_val'].iloc[start_of_train_val:train_val_point] = True\n",
    "\n",
    "    assert train['is_train_val'].sum() == val_params['n_points_in_train_val']\n",
    "\n",
    "    res = run_xgb(train=train,\n",
    "                  val=val,\n",
    "                  train_cols=config['train_cols'],\n",
    "                  train_labels=train[config['label_col']],\n",
    "                  val_labels=val[config['label_col']],\n",
    "                  booster_params=config['booster_params'],\n",
    "                  train_params=config['train_params'],\n",
    "                  log_params=config['log_params'],\n",
    "                  kfold=Splitter(),\n",
    "                  metric=mean_absolute_error)\n",
    "\n",
    "    res_lst_metric.append(res)"
   ]
  },
  {
   "cell_type": "code",
   "execution_count": 20,
   "metadata": {
    "ExecuteTime": {
     "end_time": "2022-02-23T13:56:10.983018Z",
     "start_time": "2022-02-23T13:56:10.978630Z"
    }
   },
   "outputs": [
    {
     "name": "stdout",
     "output_type": "stream",
     "text": [
      "Mean error through validation --> 0.1672\n",
      "Mean error through validation simple--> 0.1800\n"
     ]
    }
   ],
   "source": [
    "print('Mean error through validation --> {:.4f}'.format(np.mean(res_lst_metric)))\n",
    "print('Mean error through validation simple--> {:.4f}'.format(np.mean(res_lst_simple)))"
   ]
  },
  {
   "cell_type": "code",
   "execution_count": null,
   "metadata": {},
   "outputs": [],
   "source": []
  },
  {
   "cell_type": "code",
   "execution_count": null,
   "metadata": {},
   "outputs": [],
   "source": []
  },
  {
   "cell_type": "code",
   "execution_count": null,
   "metadata": {},
   "outputs": [],
   "source": []
  },
  {
   "cell_type": "code",
   "execution_count": null,
   "metadata": {},
   "outputs": [],
   "source": []
  }
 ],
 "metadata": {
  "kernelspec": {
   "display_name": "run_xgb",
   "language": "python",
   "name": "run_xgb"
  },
  "language_info": {
   "codemirror_mode": {
    "name": "ipython",
    "version": 3
   },
   "file_extension": ".py",
   "mimetype": "text/x-python",
   "name": "python",
   "nbconvert_exporter": "python",
   "pygments_lexer": "ipython3",
   "version": "3.7.4"
  },
  "toc": {
   "base_numbering": 1,
   "nav_menu": {},
   "number_sections": true,
   "sideBar": true,
   "skip_h1_title": false,
   "title_cell": "Table of Contents",
   "title_sidebar": "Contents",
   "toc_cell": false,
   "toc_position": {},
   "toc_section_display": true,
   "toc_window_display": false
  }
 },
 "nbformat": 4,
 "nbformat_minor": 4
}
